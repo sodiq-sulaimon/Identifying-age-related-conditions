{
 "cells": [
  {
   "cell_type": "markdown",
   "id": "29aef66c",
   "metadata": {
    "papermill": {
     "duration": 0.012264,
     "end_time": "2023-08-10T00:01:25.266089",
     "exception": false,
     "start_time": "2023-08-10T00:01:25.253825",
     "status": "completed"
    },
    "tags": []
   },
   "source": [
    "## Loading the required packages"
   ]
  },
  {
   "cell_type": "code",
   "execution_count": 1,
   "id": "14d732d1",
   "metadata": {
    "_cell_guid": "b1076dfc-b9ad-4769-8c92-a6c4dae69d19",
    "_uuid": "8f2839f25d086af736a60e9eeb907d3b93b6e0e5",
    "execution": {
     "iopub.execute_input": "2023-08-10T00:01:25.291070Z",
     "iopub.status.busy": "2023-08-10T00:01:25.290211Z",
     "iopub.status.idle": "2023-08-10T00:01:34.586753Z",
     "shell.execute_reply": "2023-08-10T00:01:34.585764Z"
    },
    "papermill": {
     "duration": 9.311375,
     "end_time": "2023-08-10T00:01:34.589161",
     "exception": false,
     "start_time": "2023-08-10T00:01:25.277786",
     "status": "completed"
    },
    "tags": []
   },
   "outputs": [
    {
     "name": "stderr",
     "output_type": "stream",
     "text": [
      "/opt/conda/lib/python3.10/site-packages/tensorflow_io/python/ops/__init__.py:98: UserWarning: unable to load libtensorflow_io_plugins.so: unable to open file: libtensorflow_io_plugins.so, from paths: ['/opt/conda/lib/python3.10/site-packages/tensorflow_io/python/ops/libtensorflow_io_plugins.so']\n",
      "caused by: ['/opt/conda/lib/python3.10/site-packages/tensorflow_io/python/ops/libtensorflow_io_plugins.so: undefined symbol: _ZN3tsl6StatusC1EN10tensorflow5error4CodeESt17basic_string_viewIcSt11char_traitsIcEENS_14SourceLocationE']\n",
      "  warnings.warn(f\"unable to load libtensorflow_io_plugins.so: {e}\")\n",
      "/opt/conda/lib/python3.10/site-packages/tensorflow_io/python/ops/__init__.py:104: UserWarning: file system plugins are not loaded: unable to open file: libtensorflow_io.so, from paths: ['/opt/conda/lib/python3.10/site-packages/tensorflow_io/python/ops/libtensorflow_io.so']\n",
      "caused by: ['/opt/conda/lib/python3.10/site-packages/tensorflow_io/python/ops/libtensorflow_io.so: undefined symbol: _ZTVN10tensorflow13GcsFileSystemE']\n",
      "  warnings.warn(f\"file system plugins are not loaded: {e}\")\n"
     ]
    }
   ],
   "source": [
    "#Loading the required packages\n",
    "import numpy as np # linear algebra\n",
    "import pandas as pd # data processing, CSV file I/O (e.g. pd.read_csv)\n",
    "import tensorflow as tf\n",
    "from tensorflow import keras\n",
    "from tensorflow.keras import layers\n",
    "import matplotlib.pyplot as plt\n",
    "from tensorflow.keras.callbacks import LearningRateScheduler\n",
    "from sklearn.model_selection import StratifiedKFold, train_test_split\n",
    "\n",
    "# Input data files are available in the read-only \"../input/\" directory\n",
    "# For example, running this will list all files under the input directory\n",
    "\n",
    "import os"
   ]
  },
  {
   "cell_type": "markdown",
   "id": "f20ed8eb",
   "metadata": {
    "papermill": {
     "duration": 0.01171,
     "end_time": "2023-08-10T00:01:34.612774",
     "exception": false,
     "start_time": "2023-08-10T00:01:34.601064",
     "status": "completed"
    },
    "tags": []
   },
   "source": [
    "## Loading the data"
   ]
  },
  {
   "cell_type": "code",
   "execution_count": 2,
   "id": "8a46161e",
   "metadata": {
    "execution": {
     "iopub.execute_input": "2023-08-10T00:01:34.637347Z",
     "iopub.status.busy": "2023-08-10T00:01:34.636752Z",
     "iopub.status.idle": "2023-08-10T00:01:34.644931Z",
     "shell.execute_reply": "2023-08-10T00:01:34.643883Z"
    },
    "papermill": {
     "duration": 0.02303,
     "end_time": "2023-08-10T00:01:34.647282",
     "exception": false,
     "start_time": "2023-08-10T00:01:34.624252",
     "status": "completed"
    },
    "tags": []
   },
   "outputs": [
    {
     "name": "stdout",
     "output_type": "stream",
     "text": [
      "/kaggle/input/icr-identify-age-related-conditions/sample_submission.csv\n",
      "/kaggle/input/icr-identify-age-related-conditions/greeks.csv\n",
      "/kaggle/input/icr-identify-age-related-conditions/train.csv\n",
      "/kaggle/input/icr-identify-age-related-conditions/test.csv\n"
     ]
    }
   ],
   "source": [
    "#Load the data into directory\n",
    "for dirname, _, filenames in os.walk('/kaggle/input'):\n",
    "    for filename in filenames:\n",
    "        print(os.path.join(dirname, filename))"
   ]
  },
  {
   "cell_type": "markdown",
   "id": "2ce881de",
   "metadata": {
    "execution": {
     "iopub.execute_input": "2023-08-04T22:56:50.162129Z",
     "iopub.status.busy": "2023-08-04T22:56:50.161750Z",
     "iopub.status.idle": "2023-08-04T22:56:50.167643Z",
     "shell.execute_reply": "2023-08-04T22:56:50.165953Z",
     "shell.execute_reply.started": "2023-08-04T22:56:50.162099Z"
    },
    "papermill": {
     "duration": 0.011827,
     "end_time": "2023-08-10T00:01:34.670955",
     "exception": false,
     "start_time": "2023-08-10T00:01:34.659128",
     "status": "completed"
    },
    "tags": []
   },
   "source": [
    "## Exploring the data"
   ]
  },
  {
   "cell_type": "code",
   "execution_count": 3,
   "id": "6687ceb2",
   "metadata": {
    "execution": {
     "iopub.execute_input": "2023-08-10T00:01:34.695304Z",
     "iopub.status.busy": "2023-08-10T00:01:34.695024Z",
     "iopub.status.idle": "2023-08-10T00:01:34.739011Z",
     "shell.execute_reply": "2023-08-10T00:01:34.738163Z"
    },
    "papermill": {
     "duration": 0.058396,
     "end_time": "2023-08-10T00:01:34.740946",
     "exception": false,
     "start_time": "2023-08-10T00:01:34.682550",
     "status": "completed"
    },
    "tags": []
   },
   "outputs": [],
   "source": [
    "# load data into pandas dataframe\n",
    "\n",
    "train_df = pd.read_csv('/kaggle/input/icr-identify-age-related-conditions/train.csv')\n",
    "test_df = pd.read_csv('/kaggle/input/icr-identify-age-related-conditions/test.csv')\n",
    "greeks_df = pd.read_csv('/kaggle/input/icr-identify-age-related-conditions/greeks.csv')\n",
    "submission = pd.read_csv('/kaggle/input/icr-identify-age-related-conditions/sample_submission.csv')"
   ]
  },
  {
   "cell_type": "code",
   "execution_count": 4,
   "id": "55f34fbf",
   "metadata": {
    "execution": {
     "iopub.execute_input": "2023-08-10T00:01:34.765547Z",
     "iopub.status.busy": "2023-08-10T00:01:34.765291Z",
     "iopub.status.idle": "2023-08-10T00:01:34.802650Z",
     "shell.execute_reply": "2023-08-10T00:01:34.801682Z"
    },
    "papermill": {
     "duration": 0.052623,
     "end_time": "2023-08-10T00:01:34.805418",
     "exception": false,
     "start_time": "2023-08-10T00:01:34.752795",
     "status": "completed"
    },
    "tags": []
   },
   "outputs": [
    {
     "data": {
      "text/html": [
       "<div>\n",
       "<style scoped>\n",
       "    .dataframe tbody tr th:only-of-type {\n",
       "        vertical-align: middle;\n",
       "    }\n",
       "\n",
       "    .dataframe tbody tr th {\n",
       "        vertical-align: top;\n",
       "    }\n",
       "\n",
       "    .dataframe thead th {\n",
       "        text-align: right;\n",
       "    }\n",
       "</style>\n",
       "<table border=\"1\" class=\"dataframe\">\n",
       "  <thead>\n",
       "    <tr style=\"text-align: right;\">\n",
       "      <th></th>\n",
       "      <th>Id</th>\n",
       "      <th>AB</th>\n",
       "      <th>AF</th>\n",
       "      <th>AH</th>\n",
       "      <th>AM</th>\n",
       "      <th>AR</th>\n",
       "      <th>AX</th>\n",
       "      <th>AY</th>\n",
       "      <th>AZ</th>\n",
       "      <th>BC</th>\n",
       "      <th>...</th>\n",
       "      <th>FL</th>\n",
       "      <th>FR</th>\n",
       "      <th>FS</th>\n",
       "      <th>GB</th>\n",
       "      <th>GE</th>\n",
       "      <th>GF</th>\n",
       "      <th>GH</th>\n",
       "      <th>GI</th>\n",
       "      <th>GL</th>\n",
       "      <th>Class</th>\n",
       "    </tr>\n",
       "  </thead>\n",
       "  <tbody>\n",
       "    <tr>\n",
       "      <th>0</th>\n",
       "      <td>000ff2bfdfe9</td>\n",
       "      <td>0.209377</td>\n",
       "      <td>3109.03329</td>\n",
       "      <td>85.200147</td>\n",
       "      <td>22.394407</td>\n",
       "      <td>8.138688</td>\n",
       "      <td>0.699861</td>\n",
       "      <td>0.025578</td>\n",
       "      <td>9.812214</td>\n",
       "      <td>5.555634</td>\n",
       "      <td>...</td>\n",
       "      <td>7.298162</td>\n",
       "      <td>1.73855</td>\n",
       "      <td>0.094822</td>\n",
       "      <td>11.339138</td>\n",
       "      <td>72.611063</td>\n",
       "      <td>2003.810319</td>\n",
       "      <td>22.136229</td>\n",
       "      <td>69.834944</td>\n",
       "      <td>0.120343</td>\n",
       "      <td>1</td>\n",
       "    </tr>\n",
       "    <tr>\n",
       "      <th>1</th>\n",
       "      <td>007255e47698</td>\n",
       "      <td>0.145282</td>\n",
       "      <td>978.76416</td>\n",
       "      <td>85.200147</td>\n",
       "      <td>36.968889</td>\n",
       "      <td>8.138688</td>\n",
       "      <td>3.632190</td>\n",
       "      <td>0.025578</td>\n",
       "      <td>13.517790</td>\n",
       "      <td>1.229900</td>\n",
       "      <td>...</td>\n",
       "      <td>0.173229</td>\n",
       "      <td>0.49706</td>\n",
       "      <td>0.568932</td>\n",
       "      <td>9.292698</td>\n",
       "      <td>72.611063</td>\n",
       "      <td>27981.562750</td>\n",
       "      <td>29.135430</td>\n",
       "      <td>32.131996</td>\n",
       "      <td>21.978000</td>\n",
       "      <td>0</td>\n",
       "    </tr>\n",
       "    <tr>\n",
       "      <th>2</th>\n",
       "      <td>013f2bd269f5</td>\n",
       "      <td>0.470030</td>\n",
       "      <td>2635.10654</td>\n",
       "      <td>85.200147</td>\n",
       "      <td>32.360553</td>\n",
       "      <td>8.138688</td>\n",
       "      <td>6.732840</td>\n",
       "      <td>0.025578</td>\n",
       "      <td>12.824570</td>\n",
       "      <td>1.229900</td>\n",
       "      <td>...</td>\n",
       "      <td>7.709560</td>\n",
       "      <td>0.97556</td>\n",
       "      <td>1.198821</td>\n",
       "      <td>37.077772</td>\n",
       "      <td>88.609437</td>\n",
       "      <td>13676.957810</td>\n",
       "      <td>28.022851</td>\n",
       "      <td>35.192676</td>\n",
       "      <td>0.196941</td>\n",
       "      <td>0</td>\n",
       "    </tr>\n",
       "    <tr>\n",
       "      <th>3</th>\n",
       "      <td>043ac50845d5</td>\n",
       "      <td>0.252107</td>\n",
       "      <td>3819.65177</td>\n",
       "      <td>120.201618</td>\n",
       "      <td>77.112203</td>\n",
       "      <td>8.138688</td>\n",
       "      <td>3.685344</td>\n",
       "      <td>0.025578</td>\n",
       "      <td>11.053708</td>\n",
       "      <td>1.229900</td>\n",
       "      <td>...</td>\n",
       "      <td>6.122162</td>\n",
       "      <td>0.49706</td>\n",
       "      <td>0.284466</td>\n",
       "      <td>18.529584</td>\n",
       "      <td>82.416803</td>\n",
       "      <td>2094.262452</td>\n",
       "      <td>39.948656</td>\n",
       "      <td>90.493248</td>\n",
       "      <td>0.155829</td>\n",
       "      <td>0</td>\n",
       "    </tr>\n",
       "    <tr>\n",
       "      <th>4</th>\n",
       "      <td>044fb8a146ec</td>\n",
       "      <td>0.380297</td>\n",
       "      <td>3733.04844</td>\n",
       "      <td>85.200147</td>\n",
       "      <td>14.103738</td>\n",
       "      <td>8.138688</td>\n",
       "      <td>3.942255</td>\n",
       "      <td>0.054810</td>\n",
       "      <td>3.396778</td>\n",
       "      <td>102.151980</td>\n",
       "      <td>...</td>\n",
       "      <td>8.153058</td>\n",
       "      <td>48.50134</td>\n",
       "      <td>0.121914</td>\n",
       "      <td>16.408728</td>\n",
       "      <td>146.109943</td>\n",
       "      <td>8524.370502</td>\n",
       "      <td>45.381316</td>\n",
       "      <td>36.262628</td>\n",
       "      <td>0.096614</td>\n",
       "      <td>1</td>\n",
       "    </tr>\n",
       "    <tr>\n",
       "      <th>5</th>\n",
       "      <td>04517a3c90bd</td>\n",
       "      <td>0.209377</td>\n",
       "      <td>2615.81430</td>\n",
       "      <td>85.200147</td>\n",
       "      <td>8.541526</td>\n",
       "      <td>8.138688</td>\n",
       "      <td>4.013127</td>\n",
       "      <td>0.025578</td>\n",
       "      <td>12.547282</td>\n",
       "      <td>1.229900</td>\n",
       "      <td>...</td>\n",
       "      <td>0.173229</td>\n",
       "      <td>0.49706</td>\n",
       "      <td>1.164956</td>\n",
       "      <td>21.915512</td>\n",
       "      <td>72.611063</td>\n",
       "      <td>24177.595550</td>\n",
       "      <td>28.525186</td>\n",
       "      <td>82.527764</td>\n",
       "      <td>21.978000</td>\n",
       "      <td>0</td>\n",
       "    </tr>\n",
       "    <tr>\n",
       "      <th>6</th>\n",
       "      <td>049232ca8356</td>\n",
       "      <td>0.348249</td>\n",
       "      <td>1733.65412</td>\n",
       "      <td>85.200147</td>\n",
       "      <td>8.377385</td>\n",
       "      <td>15.312480</td>\n",
       "      <td>1.913544</td>\n",
       "      <td>0.025578</td>\n",
       "      <td>6.547778</td>\n",
       "      <td>1.229900</td>\n",
       "      <td>...</td>\n",
       "      <td>4.408484</td>\n",
       "      <td>0.86130</td>\n",
       "      <td>0.467337</td>\n",
       "      <td>17.878444</td>\n",
       "      <td>192.453107</td>\n",
       "      <td>3332.467494</td>\n",
       "      <td>34.166222</td>\n",
       "      <td>100.086808</td>\n",
       "      <td>0.065096</td>\n",
       "      <td>0</td>\n",
       "    </tr>\n",
       "    <tr>\n",
       "      <th>7</th>\n",
       "      <td>057287f2da6d</td>\n",
       "      <td>0.269199</td>\n",
       "      <td>966.45483</td>\n",
       "      <td>85.200147</td>\n",
       "      <td>21.174189</td>\n",
       "      <td>8.138688</td>\n",
       "      <td>4.987617</td>\n",
       "      <td>0.025578</td>\n",
       "      <td>9.408886</td>\n",
       "      <td>1.229900</td>\n",
       "      <td>...</td>\n",
       "      <td>6.591896</td>\n",
       "      <td>0.49706</td>\n",
       "      <td>0.277693</td>\n",
       "      <td>18.445866</td>\n",
       "      <td>109.693986</td>\n",
       "      <td>21371.759850</td>\n",
       "      <td>35.208102</td>\n",
       "      <td>31.424696</td>\n",
       "      <td>0.092873</td>\n",
       "      <td>0</td>\n",
       "    </tr>\n",
       "    <tr>\n",
       "      <th>8</th>\n",
       "      <td>0594b00fb30a</td>\n",
       "      <td>0.346113</td>\n",
       "      <td>3238.43674</td>\n",
       "      <td>85.200147</td>\n",
       "      <td>28.888816</td>\n",
       "      <td>8.138688</td>\n",
       "      <td>4.021986</td>\n",
       "      <td>0.025578</td>\n",
       "      <td>8.243016</td>\n",
       "      <td>3.626448</td>\n",
       "      <td>...</td>\n",
       "      <td>4.762291</td>\n",
       "      <td>1.18262</td>\n",
       "      <td>0.067730</td>\n",
       "      <td>17.245908</td>\n",
       "      <td>147.218610</td>\n",
       "      <td>4589.611956</td>\n",
       "      <td>29.771721</td>\n",
       "      <td>54.675576</td>\n",
       "      <td>0.073416</td>\n",
       "      <td>0</td>\n",
       "    </tr>\n",
       "    <tr>\n",
       "      <th>9</th>\n",
       "      <td>05f2bc0155cd</td>\n",
       "      <td>0.324748</td>\n",
       "      <td>5188.68207</td>\n",
       "      <td>85.200147</td>\n",
       "      <td>12.968687</td>\n",
       "      <td>8.138688</td>\n",
       "      <td>4.593392</td>\n",
       "      <td>0.025578</td>\n",
       "      <td>10.685041</td>\n",
       "      <td>1.229900</td>\n",
       "      <td>...</td>\n",
       "      <td>0.173229</td>\n",
       "      <td>1.57151</td>\n",
       "      <td>0.318331</td>\n",
       "      <td>24.515421</td>\n",
       "      <td>98.929757</td>\n",
       "      <td>5563.130949</td>\n",
       "      <td>21.994831</td>\n",
       "      <td>33.300970</td>\n",
       "      <td>21.978000</td>\n",
       "      <td>0</td>\n",
       "    </tr>\n",
       "  </tbody>\n",
       "</table>\n",
       "<p>10 rows × 58 columns</p>\n",
       "</div>"
      ],
      "text/plain": [
       "             Id        AB          AF          AH         AM         AR  \\\n",
       "0  000ff2bfdfe9  0.209377  3109.03329   85.200147  22.394407   8.138688   \n",
       "1  007255e47698  0.145282   978.76416   85.200147  36.968889   8.138688   \n",
       "2  013f2bd269f5  0.470030  2635.10654   85.200147  32.360553   8.138688   \n",
       "3  043ac50845d5  0.252107  3819.65177  120.201618  77.112203   8.138688   \n",
       "4  044fb8a146ec  0.380297  3733.04844   85.200147  14.103738   8.138688   \n",
       "5  04517a3c90bd  0.209377  2615.81430   85.200147   8.541526   8.138688   \n",
       "6  049232ca8356  0.348249  1733.65412   85.200147   8.377385  15.312480   \n",
       "7  057287f2da6d  0.269199   966.45483   85.200147  21.174189   8.138688   \n",
       "8  0594b00fb30a  0.346113  3238.43674   85.200147  28.888816   8.138688   \n",
       "9  05f2bc0155cd  0.324748  5188.68207   85.200147  12.968687   8.138688   \n",
       "\n",
       "         AX        AY         AZ          BC  ...        FL        FR  \\\n",
       "0  0.699861  0.025578   9.812214    5.555634  ...  7.298162   1.73855   \n",
       "1  3.632190  0.025578  13.517790    1.229900  ...  0.173229   0.49706   \n",
       "2  6.732840  0.025578  12.824570    1.229900  ...  7.709560   0.97556   \n",
       "3  3.685344  0.025578  11.053708    1.229900  ...  6.122162   0.49706   \n",
       "4  3.942255  0.054810   3.396778  102.151980  ...  8.153058  48.50134   \n",
       "5  4.013127  0.025578  12.547282    1.229900  ...  0.173229   0.49706   \n",
       "6  1.913544  0.025578   6.547778    1.229900  ...  4.408484   0.86130   \n",
       "7  4.987617  0.025578   9.408886    1.229900  ...  6.591896   0.49706   \n",
       "8  4.021986  0.025578   8.243016    3.626448  ...  4.762291   1.18262   \n",
       "9  4.593392  0.025578  10.685041    1.229900  ...  0.173229   1.57151   \n",
       "\n",
       "         FS         GB          GE            GF         GH          GI  \\\n",
       "0  0.094822  11.339138   72.611063   2003.810319  22.136229   69.834944   \n",
       "1  0.568932   9.292698   72.611063  27981.562750  29.135430   32.131996   \n",
       "2  1.198821  37.077772   88.609437  13676.957810  28.022851   35.192676   \n",
       "3  0.284466  18.529584   82.416803   2094.262452  39.948656   90.493248   \n",
       "4  0.121914  16.408728  146.109943   8524.370502  45.381316   36.262628   \n",
       "5  1.164956  21.915512   72.611063  24177.595550  28.525186   82.527764   \n",
       "6  0.467337  17.878444  192.453107   3332.467494  34.166222  100.086808   \n",
       "7  0.277693  18.445866  109.693986  21371.759850  35.208102   31.424696   \n",
       "8  0.067730  17.245908  147.218610   4589.611956  29.771721   54.675576   \n",
       "9  0.318331  24.515421   98.929757   5563.130949  21.994831   33.300970   \n",
       "\n",
       "          GL  Class  \n",
       "0   0.120343      1  \n",
       "1  21.978000      0  \n",
       "2   0.196941      0  \n",
       "3   0.155829      0  \n",
       "4   0.096614      1  \n",
       "5  21.978000      0  \n",
       "6   0.065096      0  \n",
       "7   0.092873      0  \n",
       "8   0.073416      0  \n",
       "9  21.978000      0  \n",
       "\n",
       "[10 rows x 58 columns]"
      ]
     },
     "execution_count": 4,
     "metadata": {},
     "output_type": "execute_result"
    }
   ],
   "source": [
    "# look at the first 10 rows of the train_df data\n",
    "train_df.head(10)"
   ]
  },
  {
   "cell_type": "code",
   "execution_count": 5,
   "id": "8dbc80f7",
   "metadata": {
    "execution": {
     "iopub.execute_input": "2023-08-10T00:01:34.831804Z",
     "iopub.status.busy": "2023-08-10T00:01:34.831374Z",
     "iopub.status.idle": "2023-08-10T00:01:34.860526Z",
     "shell.execute_reply": "2023-08-10T00:01:34.859536Z"
    },
    "papermill": {
     "duration": 0.045275,
     "end_time": "2023-08-10T00:01:34.862851",
     "exception": false,
     "start_time": "2023-08-10T00:01:34.817576",
     "status": "completed"
    },
    "tags": []
   },
   "outputs": [
    {
     "data": {
      "text/html": [
       "<div>\n",
       "<style scoped>\n",
       "    .dataframe tbody tr th:only-of-type {\n",
       "        vertical-align: middle;\n",
       "    }\n",
       "\n",
       "    .dataframe tbody tr th {\n",
       "        vertical-align: top;\n",
       "    }\n",
       "\n",
       "    .dataframe thead th {\n",
       "        text-align: right;\n",
       "    }\n",
       "</style>\n",
       "<table border=\"1\" class=\"dataframe\">\n",
       "  <thead>\n",
       "    <tr style=\"text-align: right;\">\n",
       "      <th></th>\n",
       "      <th>Id</th>\n",
       "      <th>AB</th>\n",
       "      <th>AF</th>\n",
       "      <th>AH</th>\n",
       "      <th>AM</th>\n",
       "      <th>AR</th>\n",
       "      <th>AX</th>\n",
       "      <th>AY</th>\n",
       "      <th>AZ</th>\n",
       "      <th>BC</th>\n",
       "      <th>...</th>\n",
       "      <th>FI</th>\n",
       "      <th>FL</th>\n",
       "      <th>FR</th>\n",
       "      <th>FS</th>\n",
       "      <th>GB</th>\n",
       "      <th>GE</th>\n",
       "      <th>GF</th>\n",
       "      <th>GH</th>\n",
       "      <th>GI</th>\n",
       "      <th>GL</th>\n",
       "    </tr>\n",
       "  </thead>\n",
       "  <tbody>\n",
       "    <tr>\n",
       "      <th>0</th>\n",
       "      <td>00eed32682bb</td>\n",
       "      <td>0.0</td>\n",
       "      <td>0.0</td>\n",
       "      <td>0.0</td>\n",
       "      <td>0.0</td>\n",
       "      <td>0.0</td>\n",
       "      <td>0.0</td>\n",
       "      <td>0.0</td>\n",
       "      <td>0.0</td>\n",
       "      <td>0.0</td>\n",
       "      <td>...</td>\n",
       "      <td>0.0</td>\n",
       "      <td>0.0</td>\n",
       "      <td>0.0</td>\n",
       "      <td>0.0</td>\n",
       "      <td>0.0</td>\n",
       "      <td>0.0</td>\n",
       "      <td>0.0</td>\n",
       "      <td>0.0</td>\n",
       "      <td>0.0</td>\n",
       "      <td>0.0</td>\n",
       "    </tr>\n",
       "    <tr>\n",
       "      <th>1</th>\n",
       "      <td>010ebe33f668</td>\n",
       "      <td>0.0</td>\n",
       "      <td>0.0</td>\n",
       "      <td>0.0</td>\n",
       "      <td>0.0</td>\n",
       "      <td>0.0</td>\n",
       "      <td>0.0</td>\n",
       "      <td>0.0</td>\n",
       "      <td>0.0</td>\n",
       "      <td>0.0</td>\n",
       "      <td>...</td>\n",
       "      <td>0.0</td>\n",
       "      <td>0.0</td>\n",
       "      <td>0.0</td>\n",
       "      <td>0.0</td>\n",
       "      <td>0.0</td>\n",
       "      <td>0.0</td>\n",
       "      <td>0.0</td>\n",
       "      <td>0.0</td>\n",
       "      <td>0.0</td>\n",
       "      <td>0.0</td>\n",
       "    </tr>\n",
       "    <tr>\n",
       "      <th>2</th>\n",
       "      <td>02fa521e1838</td>\n",
       "      <td>0.0</td>\n",
       "      <td>0.0</td>\n",
       "      <td>0.0</td>\n",
       "      <td>0.0</td>\n",
       "      <td>0.0</td>\n",
       "      <td>0.0</td>\n",
       "      <td>0.0</td>\n",
       "      <td>0.0</td>\n",
       "      <td>0.0</td>\n",
       "      <td>...</td>\n",
       "      <td>0.0</td>\n",
       "      <td>0.0</td>\n",
       "      <td>0.0</td>\n",
       "      <td>0.0</td>\n",
       "      <td>0.0</td>\n",
       "      <td>0.0</td>\n",
       "      <td>0.0</td>\n",
       "      <td>0.0</td>\n",
       "      <td>0.0</td>\n",
       "      <td>0.0</td>\n",
       "    </tr>\n",
       "    <tr>\n",
       "      <th>3</th>\n",
       "      <td>040e15f562a2</td>\n",
       "      <td>0.0</td>\n",
       "      <td>0.0</td>\n",
       "      <td>0.0</td>\n",
       "      <td>0.0</td>\n",
       "      <td>0.0</td>\n",
       "      <td>0.0</td>\n",
       "      <td>0.0</td>\n",
       "      <td>0.0</td>\n",
       "      <td>0.0</td>\n",
       "      <td>...</td>\n",
       "      <td>0.0</td>\n",
       "      <td>0.0</td>\n",
       "      <td>0.0</td>\n",
       "      <td>0.0</td>\n",
       "      <td>0.0</td>\n",
       "      <td>0.0</td>\n",
       "      <td>0.0</td>\n",
       "      <td>0.0</td>\n",
       "      <td>0.0</td>\n",
       "      <td>0.0</td>\n",
       "    </tr>\n",
       "    <tr>\n",
       "      <th>4</th>\n",
       "      <td>046e85c7cc7f</td>\n",
       "      <td>0.0</td>\n",
       "      <td>0.0</td>\n",
       "      <td>0.0</td>\n",
       "      <td>0.0</td>\n",
       "      <td>0.0</td>\n",
       "      <td>0.0</td>\n",
       "      <td>0.0</td>\n",
       "      <td>0.0</td>\n",
       "      <td>0.0</td>\n",
       "      <td>...</td>\n",
       "      <td>0.0</td>\n",
       "      <td>0.0</td>\n",
       "      <td>0.0</td>\n",
       "      <td>0.0</td>\n",
       "      <td>0.0</td>\n",
       "      <td>0.0</td>\n",
       "      <td>0.0</td>\n",
       "      <td>0.0</td>\n",
       "      <td>0.0</td>\n",
       "      <td>0.0</td>\n",
       "    </tr>\n",
       "  </tbody>\n",
       "</table>\n",
       "<p>5 rows × 57 columns</p>\n",
       "</div>"
      ],
      "text/plain": [
       "             Id   AB   AF   AH   AM   AR   AX   AY   AZ   BC  ...   FI   FL  \\\n",
       "0  00eed32682bb  0.0  0.0  0.0  0.0  0.0  0.0  0.0  0.0  0.0  ...  0.0  0.0   \n",
       "1  010ebe33f668  0.0  0.0  0.0  0.0  0.0  0.0  0.0  0.0  0.0  ...  0.0  0.0   \n",
       "2  02fa521e1838  0.0  0.0  0.0  0.0  0.0  0.0  0.0  0.0  0.0  ...  0.0  0.0   \n",
       "3  040e15f562a2  0.0  0.0  0.0  0.0  0.0  0.0  0.0  0.0  0.0  ...  0.0  0.0   \n",
       "4  046e85c7cc7f  0.0  0.0  0.0  0.0  0.0  0.0  0.0  0.0  0.0  ...  0.0  0.0   \n",
       "\n",
       "    FR   FS   GB   GE   GF   GH   GI   GL  \n",
       "0  0.0  0.0  0.0  0.0  0.0  0.0  0.0  0.0  \n",
       "1  0.0  0.0  0.0  0.0  0.0  0.0  0.0  0.0  \n",
       "2  0.0  0.0  0.0  0.0  0.0  0.0  0.0  0.0  \n",
       "3  0.0  0.0  0.0  0.0  0.0  0.0  0.0  0.0  \n",
       "4  0.0  0.0  0.0  0.0  0.0  0.0  0.0  0.0  \n",
       "\n",
       "[5 rows x 57 columns]"
      ]
     },
     "execution_count": 5,
     "metadata": {},
     "output_type": "execute_result"
    }
   ],
   "source": [
    "# look at the first 10 rows of the test_df data\n",
    "test_df.head(10)"
   ]
  },
  {
   "cell_type": "code",
   "execution_count": 6,
   "id": "738a4a2b",
   "metadata": {
    "execution": {
     "iopub.execute_input": "2023-08-10T00:01:34.889073Z",
     "iopub.status.busy": "2023-08-10T00:01:34.888553Z",
     "iopub.status.idle": "2023-08-10T00:01:34.899293Z",
     "shell.execute_reply": "2023-08-10T00:01:34.898478Z"
    },
    "papermill": {
     "duration": 0.025801,
     "end_time": "2023-08-10T00:01:34.901230",
     "exception": false,
     "start_time": "2023-08-10T00:01:34.875429",
     "status": "completed"
    },
    "tags": []
   },
   "outputs": [
    {
     "data": {
      "text/html": [
       "<div>\n",
       "<style scoped>\n",
       "    .dataframe tbody tr th:only-of-type {\n",
       "        vertical-align: middle;\n",
       "    }\n",
       "\n",
       "    .dataframe tbody tr th {\n",
       "        vertical-align: top;\n",
       "    }\n",
       "\n",
       "    .dataframe thead th {\n",
       "        text-align: right;\n",
       "    }\n",
       "</style>\n",
       "<table border=\"1\" class=\"dataframe\">\n",
       "  <thead>\n",
       "    <tr style=\"text-align: right;\">\n",
       "      <th></th>\n",
       "      <th>Id</th>\n",
       "      <th>Alpha</th>\n",
       "      <th>Beta</th>\n",
       "      <th>Gamma</th>\n",
       "      <th>Delta</th>\n",
       "      <th>Epsilon</th>\n",
       "    </tr>\n",
       "  </thead>\n",
       "  <tbody>\n",
       "    <tr>\n",
       "      <th>0</th>\n",
       "      <td>000ff2bfdfe9</td>\n",
       "      <td>B</td>\n",
       "      <td>C</td>\n",
       "      <td>G</td>\n",
       "      <td>D</td>\n",
       "      <td>3/19/2019</td>\n",
       "    </tr>\n",
       "    <tr>\n",
       "      <th>1</th>\n",
       "      <td>007255e47698</td>\n",
       "      <td>A</td>\n",
       "      <td>C</td>\n",
       "      <td>M</td>\n",
       "      <td>B</td>\n",
       "      <td>Unknown</td>\n",
       "    </tr>\n",
       "    <tr>\n",
       "      <th>2</th>\n",
       "      <td>013f2bd269f5</td>\n",
       "      <td>A</td>\n",
       "      <td>C</td>\n",
       "      <td>M</td>\n",
       "      <td>B</td>\n",
       "      <td>Unknown</td>\n",
       "    </tr>\n",
       "    <tr>\n",
       "      <th>3</th>\n",
       "      <td>043ac50845d5</td>\n",
       "      <td>A</td>\n",
       "      <td>C</td>\n",
       "      <td>M</td>\n",
       "      <td>B</td>\n",
       "      <td>Unknown</td>\n",
       "    </tr>\n",
       "    <tr>\n",
       "      <th>4</th>\n",
       "      <td>044fb8a146ec</td>\n",
       "      <td>D</td>\n",
       "      <td>B</td>\n",
       "      <td>F</td>\n",
       "      <td>B</td>\n",
       "      <td>3/25/2020</td>\n",
       "    </tr>\n",
       "    <tr>\n",
       "      <th>5</th>\n",
       "      <td>04517a3c90bd</td>\n",
       "      <td>A</td>\n",
       "      <td>C</td>\n",
       "      <td>M</td>\n",
       "      <td>B</td>\n",
       "      <td>10/1/2019</td>\n",
       "    </tr>\n",
       "    <tr>\n",
       "      <th>6</th>\n",
       "      <td>049232ca8356</td>\n",
       "      <td>A</td>\n",
       "      <td>C</td>\n",
       "      <td>M</td>\n",
       "      <td>B</td>\n",
       "      <td>5/29/2019</td>\n",
       "    </tr>\n",
       "    <tr>\n",
       "      <th>7</th>\n",
       "      <td>057287f2da6d</td>\n",
       "      <td>A</td>\n",
       "      <td>C</td>\n",
       "      <td>M</td>\n",
       "      <td>B</td>\n",
       "      <td>4/24/2019</td>\n",
       "    </tr>\n",
       "    <tr>\n",
       "      <th>8</th>\n",
       "      <td>0594b00fb30a</td>\n",
       "      <td>A</td>\n",
       "      <td>C</td>\n",
       "      <td>M</td>\n",
       "      <td>B</td>\n",
       "      <td>2/18/2019</td>\n",
       "    </tr>\n",
       "    <tr>\n",
       "      <th>9</th>\n",
       "      <td>05f2bc0155cd</td>\n",
       "      <td>A</td>\n",
       "      <td>B</td>\n",
       "      <td>M</td>\n",
       "      <td>B</td>\n",
       "      <td>6/19/2020</td>\n",
       "    </tr>\n",
       "  </tbody>\n",
       "</table>\n",
       "</div>"
      ],
      "text/plain": [
       "             Id Alpha Beta Gamma Delta    Epsilon\n",
       "0  000ff2bfdfe9     B    C     G     D  3/19/2019\n",
       "1  007255e47698     A    C     M     B    Unknown\n",
       "2  013f2bd269f5     A    C     M     B    Unknown\n",
       "3  043ac50845d5     A    C     M     B    Unknown\n",
       "4  044fb8a146ec     D    B     F     B  3/25/2020\n",
       "5  04517a3c90bd     A    C     M     B  10/1/2019\n",
       "6  049232ca8356     A    C     M     B  5/29/2019\n",
       "7  057287f2da6d     A    C     M     B  4/24/2019\n",
       "8  0594b00fb30a     A    C     M     B  2/18/2019\n",
       "9  05f2bc0155cd     A    B     M     B  6/19/2020"
      ]
     },
     "execution_count": 6,
     "metadata": {},
     "output_type": "execute_result"
    }
   ],
   "source": [
    "# look at the first 10 rows of the greeks_df data\n",
    "greeks_df.head(10)"
   ]
  },
  {
   "cell_type": "code",
   "execution_count": 7,
   "id": "2f105715",
   "metadata": {
    "execution": {
     "iopub.execute_input": "2023-08-10T00:01:34.928184Z",
     "iopub.status.busy": "2023-08-10T00:01:34.927441Z",
     "iopub.status.idle": "2023-08-10T00:01:34.933554Z",
     "shell.execute_reply": "2023-08-10T00:01:34.932619Z"
    },
    "papermill": {
     "duration": 0.021538,
     "end_time": "2023-08-10T00:01:34.935509",
     "exception": false,
     "start_time": "2023-08-10T00:01:34.913971",
     "status": "completed"
    },
    "tags": []
   },
   "outputs": [
    {
     "data": {
      "text/plain": [
       "((617, 58), (5, 57), (617, 6))"
      ]
     },
     "execution_count": 7,
     "metadata": {},
     "output_type": "execute_result"
    }
   ],
   "source": [
    "# checking the shape of the data, knowing this helps me avoid or resolve tensor issues.\n",
    "train_df.shape, test_df.shape, greeks_df.shape"
   ]
  },
  {
   "cell_type": "code",
   "execution_count": 8,
   "id": "7b67e0c3",
   "metadata": {
    "execution": {
     "iopub.execute_input": "2023-08-10T00:01:34.962387Z",
     "iopub.status.busy": "2023-08-10T00:01:34.961578Z",
     "iopub.status.idle": "2023-08-10T00:01:34.983335Z",
     "shell.execute_reply": "2023-08-10T00:01:34.982314Z"
    },
    "papermill": {
     "duration": 0.037324,
     "end_time": "2023-08-10T00:01:34.985500",
     "exception": false,
     "start_time": "2023-08-10T00:01:34.948176",
     "status": "completed"
    },
    "tags": []
   },
   "outputs": [
    {
     "name": "stdout",
     "output_type": "stream",
     "text": [
      "<class 'pandas.core.frame.DataFrame'>\n",
      "RangeIndex: 617 entries, 0 to 616\n",
      "Data columns (total 58 columns):\n",
      " #   Column  Non-Null Count  Dtype  \n",
      "---  ------  --------------  -----  \n",
      " 0   Id      617 non-null    object \n",
      " 1   AB      617 non-null    float64\n",
      " 2   AF      617 non-null    float64\n",
      " 3   AH      617 non-null    float64\n",
      " 4   AM      617 non-null    float64\n",
      " 5   AR      617 non-null    float64\n",
      " 6   AX      617 non-null    float64\n",
      " 7   AY      617 non-null    float64\n",
      " 8   AZ      617 non-null    float64\n",
      " 9   BC      617 non-null    float64\n",
      " 10  BD      617 non-null    float64\n",
      " 11  BN      617 non-null    float64\n",
      " 12  BP      617 non-null    float64\n",
      " 13  BQ      557 non-null    float64\n",
      " 14  BR      617 non-null    float64\n",
      " 15  BZ      617 non-null    float64\n",
      " 16  CB      615 non-null    float64\n",
      " 17  CC      614 non-null    float64\n",
      " 18  CD      617 non-null    float64\n",
      " 19  CF      617 non-null    float64\n",
      " 20  CH      617 non-null    float64\n",
      " 21  CL      617 non-null    float64\n",
      " 22  CR      617 non-null    float64\n",
      " 23  CS      617 non-null    float64\n",
      " 24  CU      617 non-null    float64\n",
      " 25  CW      617 non-null    float64\n",
      " 26  DA      617 non-null    float64\n",
      " 27  DE      617 non-null    float64\n",
      " 28  DF      617 non-null    float64\n",
      " 29  DH      617 non-null    float64\n",
      " 30  DI      617 non-null    float64\n",
      " 31  DL      617 non-null    float64\n",
      " 32  DN      617 non-null    float64\n",
      " 33  DU      616 non-null    float64\n",
      " 34  DV      617 non-null    float64\n",
      " 35  DY      617 non-null    float64\n",
      " 36  EB      617 non-null    float64\n",
      " 37  EE      617 non-null    float64\n",
      " 38  EG      617 non-null    float64\n",
      " 39  EH      617 non-null    float64\n",
      " 40  EJ      617 non-null    object \n",
      " 41  EL      557 non-null    float64\n",
      " 42  EP      617 non-null    float64\n",
      " 43  EU      617 non-null    float64\n",
      " 44  FC      616 non-null    float64\n",
      " 45  FD      617 non-null    float64\n",
      " 46  FE      617 non-null    float64\n",
      " 47  FI      617 non-null    float64\n",
      " 48  FL      616 non-null    float64\n",
      " 49  FR      617 non-null    float64\n",
      " 50  FS      615 non-null    float64\n",
      " 51  GB      617 non-null    float64\n",
      " 52  GE      617 non-null    float64\n",
      " 53  GF      617 non-null    float64\n",
      " 54  GH      617 non-null    float64\n",
      " 55  GI      617 non-null    float64\n",
      " 56  GL      616 non-null    float64\n",
      " 57  Class   617 non-null    int64  \n",
      "dtypes: float64(55), int64(1), object(2)\n",
      "memory usage: 279.7+ KB\n"
     ]
    }
   ],
   "source": [
    "# Let's look at the summary of the training set\n",
    "train_df.info()"
   ]
  },
  {
   "cell_type": "markdown",
   "id": "074efaad",
   "metadata": {
    "papermill": {
     "duration": 0.012788,
     "end_time": "2023-08-10T00:01:35.011188",
     "exception": false,
     "start_time": "2023-08-10T00:01:34.998400",
     "status": "completed"
    },
    "tags": []
   },
   "source": [
    "All the columns are numerical except column EJ. We will treat EJ differently later on.\n",
    "Some of the columns also have some missing values. We will address this in a bit."
   ]
  },
  {
   "cell_type": "code",
   "execution_count": 9,
   "id": "3432e0db",
   "metadata": {
    "execution": {
     "iopub.execute_input": "2023-08-10T00:01:35.038108Z",
     "iopub.status.busy": "2023-08-10T00:01:35.037839Z",
     "iopub.status.idle": "2023-08-10T00:01:35.172323Z",
     "shell.execute_reply": "2023-08-10T00:01:35.171323Z"
    },
    "papermill": {
     "duration": 0.15065,
     "end_time": "2023-08-10T00:01:35.174760",
     "exception": false,
     "start_time": "2023-08-10T00:01:35.024110",
     "status": "completed"
    },
    "tags": []
   },
   "outputs": [
    {
     "data": {
      "text/html": [
       "<div>\n",
       "<style scoped>\n",
       "    .dataframe tbody tr th:only-of-type {\n",
       "        vertical-align: middle;\n",
       "    }\n",
       "\n",
       "    .dataframe tbody tr th {\n",
       "        vertical-align: top;\n",
       "    }\n",
       "\n",
       "    .dataframe thead th {\n",
       "        text-align: right;\n",
       "    }\n",
       "</style>\n",
       "<table border=\"1\" class=\"dataframe\">\n",
       "  <thead>\n",
       "    <tr style=\"text-align: right;\">\n",
       "      <th></th>\n",
       "      <th>AB</th>\n",
       "      <th>AF</th>\n",
       "      <th>AH</th>\n",
       "      <th>AM</th>\n",
       "      <th>AR</th>\n",
       "      <th>AX</th>\n",
       "      <th>AY</th>\n",
       "      <th>AZ</th>\n",
       "      <th>BC</th>\n",
       "      <th>BD</th>\n",
       "      <th>...</th>\n",
       "      <th>FL</th>\n",
       "      <th>FR</th>\n",
       "      <th>FS</th>\n",
       "      <th>GB</th>\n",
       "      <th>GE</th>\n",
       "      <th>GF</th>\n",
       "      <th>GH</th>\n",
       "      <th>GI</th>\n",
       "      <th>GL</th>\n",
       "      <th>Class</th>\n",
       "    </tr>\n",
       "  </thead>\n",
       "  <tbody>\n",
       "    <tr>\n",
       "      <th>count</th>\n",
       "      <td>617.000000</td>\n",
       "      <td>617.000000</td>\n",
       "      <td>617.000000</td>\n",
       "      <td>617.000000</td>\n",
       "      <td>617.000000</td>\n",
       "      <td>617.000000</td>\n",
       "      <td>617.000000</td>\n",
       "      <td>617.000000</td>\n",
       "      <td>617.000000</td>\n",
       "      <td>617.000000</td>\n",
       "      <td>...</td>\n",
       "      <td>616.000000</td>\n",
       "      <td>617.000000</td>\n",
       "      <td>615.000000</td>\n",
       "      <td>617.000000</td>\n",
       "      <td>617.000000</td>\n",
       "      <td>617.000000</td>\n",
       "      <td>617.000000</td>\n",
       "      <td>617.000000</td>\n",
       "      <td>616.000000</td>\n",
       "      <td>617.000000</td>\n",
       "    </tr>\n",
       "    <tr>\n",
       "      <th>mean</th>\n",
       "      <td>0.477149</td>\n",
       "      <td>3502.013221</td>\n",
       "      <td>118.624513</td>\n",
       "      <td>38.968552</td>\n",
       "      <td>10.128242</td>\n",
       "      <td>5.545576</td>\n",
       "      <td>0.060320</td>\n",
       "      <td>10.566447</td>\n",
       "      <td>8.053012</td>\n",
       "      <td>5350.388655</td>\n",
       "      <td>...</td>\n",
       "      <td>5.433199</td>\n",
       "      <td>3.533905</td>\n",
       "      <td>0.421501</td>\n",
       "      <td>20.724856</td>\n",
       "      <td>131.714987</td>\n",
       "      <td>14679.595398</td>\n",
       "      <td>31.489716</td>\n",
       "      <td>50.584437</td>\n",
       "      <td>8.530961</td>\n",
       "      <td>0.175041</td>\n",
       "    </tr>\n",
       "    <tr>\n",
       "      <th>std</th>\n",
       "      <td>0.468388</td>\n",
       "      <td>2300.322717</td>\n",
       "      <td>127.838950</td>\n",
       "      <td>69.728226</td>\n",
       "      <td>10.518877</td>\n",
       "      <td>2.551696</td>\n",
       "      <td>0.416817</td>\n",
       "      <td>4.350645</td>\n",
       "      <td>65.166943</td>\n",
       "      <td>3021.326641</td>\n",
       "      <td>...</td>\n",
       "      <td>11.496257</td>\n",
       "      <td>50.181948</td>\n",
       "      <td>1.305365</td>\n",
       "      <td>9.991907</td>\n",
       "      <td>144.181524</td>\n",
       "      <td>19352.959387</td>\n",
       "      <td>9.864239</td>\n",
       "      <td>36.266251</td>\n",
       "      <td>10.327010</td>\n",
       "      <td>0.380310</td>\n",
       "    </tr>\n",
       "    <tr>\n",
       "      <th>min</th>\n",
       "      <td>0.081187</td>\n",
       "      <td>192.593280</td>\n",
       "      <td>85.200147</td>\n",
       "      <td>3.177522</td>\n",
       "      <td>8.138688</td>\n",
       "      <td>0.699861</td>\n",
       "      <td>0.025578</td>\n",
       "      <td>3.396778</td>\n",
       "      <td>1.229900</td>\n",
       "      <td>1693.624320</td>\n",
       "      <td>...</td>\n",
       "      <td>0.173229</td>\n",
       "      <td>0.497060</td>\n",
       "      <td>0.067730</td>\n",
       "      <td>4.102182</td>\n",
       "      <td>72.611063</td>\n",
       "      <td>13.038894</td>\n",
       "      <td>9.432735</td>\n",
       "      <td>0.897628</td>\n",
       "      <td>0.001129</td>\n",
       "      <td>0.000000</td>\n",
       "    </tr>\n",
       "    <tr>\n",
       "      <th>25%</th>\n",
       "      <td>0.252107</td>\n",
       "      <td>2197.345480</td>\n",
       "      <td>85.200147</td>\n",
       "      <td>12.270314</td>\n",
       "      <td>8.138688</td>\n",
       "      <td>4.128294</td>\n",
       "      <td>0.025578</td>\n",
       "      <td>8.129580</td>\n",
       "      <td>1.229900</td>\n",
       "      <td>4155.702870</td>\n",
       "      <td>...</td>\n",
       "      <td>0.173229</td>\n",
       "      <td>0.497060</td>\n",
       "      <td>0.067730</td>\n",
       "      <td>14.036718</td>\n",
       "      <td>72.611063</td>\n",
       "      <td>2798.992584</td>\n",
       "      <td>25.034888</td>\n",
       "      <td>23.011684</td>\n",
       "      <td>0.124392</td>\n",
       "      <td>0.000000</td>\n",
       "    </tr>\n",
       "    <tr>\n",
       "      <th>50%</th>\n",
       "      <td>0.354659</td>\n",
       "      <td>3120.318960</td>\n",
       "      <td>85.200147</td>\n",
       "      <td>20.533110</td>\n",
       "      <td>8.138688</td>\n",
       "      <td>5.031912</td>\n",
       "      <td>0.025578</td>\n",
       "      <td>10.461320</td>\n",
       "      <td>1.229900</td>\n",
       "      <td>4997.960730</td>\n",
       "      <td>...</td>\n",
       "      <td>3.028141</td>\n",
       "      <td>1.131000</td>\n",
       "      <td>0.250601</td>\n",
       "      <td>18.771436</td>\n",
       "      <td>72.611063</td>\n",
       "      <td>7838.273610</td>\n",
       "      <td>30.608946</td>\n",
       "      <td>41.007968</td>\n",
       "      <td>0.337827</td>\n",
       "      <td>0.000000</td>\n",
       "    </tr>\n",
       "    <tr>\n",
       "      <th>75%</th>\n",
       "      <td>0.559763</td>\n",
       "      <td>4361.637390</td>\n",
       "      <td>113.739540</td>\n",
       "      <td>39.139886</td>\n",
       "      <td>8.138688</td>\n",
       "      <td>6.431634</td>\n",
       "      <td>0.036845</td>\n",
       "      <td>12.969516</td>\n",
       "      <td>5.081244</td>\n",
       "      <td>6035.885700</td>\n",
       "      <td>...</td>\n",
       "      <td>6.238814</td>\n",
       "      <td>1.512060</td>\n",
       "      <td>0.535067</td>\n",
       "      <td>25.608406</td>\n",
       "      <td>127.591671</td>\n",
       "      <td>19035.709240</td>\n",
       "      <td>36.863947</td>\n",
       "      <td>67.931664</td>\n",
       "      <td>21.978000</td>\n",
       "      <td>0.000000</td>\n",
       "    </tr>\n",
       "    <tr>\n",
       "      <th>max</th>\n",
       "      <td>6.161666</td>\n",
       "      <td>28688.187660</td>\n",
       "      <td>1910.123198</td>\n",
       "      <td>630.518230</td>\n",
       "      <td>178.943634</td>\n",
       "      <td>38.270880</td>\n",
       "      <td>10.315851</td>\n",
       "      <td>38.971568</td>\n",
       "      <td>1463.693448</td>\n",
       "      <td>53060.599240</td>\n",
       "      <td>...</td>\n",
       "      <td>137.932739</td>\n",
       "      <td>1244.227020</td>\n",
       "      <td>31.365763</td>\n",
       "      <td>135.781294</td>\n",
       "      <td>1497.351958</td>\n",
       "      <td>143790.071200</td>\n",
       "      <td>81.210825</td>\n",
       "      <td>191.194764</td>\n",
       "      <td>21.978000</td>\n",
       "      <td>1.000000</td>\n",
       "    </tr>\n",
       "  </tbody>\n",
       "</table>\n",
       "<p>8 rows × 56 columns</p>\n",
       "</div>"
      ],
      "text/plain": [
       "               AB            AF           AH          AM          AR  \\\n",
       "count  617.000000    617.000000   617.000000  617.000000  617.000000   \n",
       "mean     0.477149   3502.013221   118.624513   38.968552   10.128242   \n",
       "std      0.468388   2300.322717   127.838950   69.728226   10.518877   \n",
       "min      0.081187    192.593280    85.200147    3.177522    8.138688   \n",
       "25%      0.252107   2197.345480    85.200147   12.270314    8.138688   \n",
       "50%      0.354659   3120.318960    85.200147   20.533110    8.138688   \n",
       "75%      0.559763   4361.637390   113.739540   39.139886    8.138688   \n",
       "max      6.161666  28688.187660  1910.123198  630.518230  178.943634   \n",
       "\n",
       "               AX          AY          AZ           BC           BD   ...  \\\n",
       "count  617.000000  617.000000  617.000000   617.000000    617.000000  ...   \n",
       "mean     5.545576    0.060320   10.566447     8.053012   5350.388655  ...   \n",
       "std      2.551696    0.416817    4.350645    65.166943   3021.326641  ...   \n",
       "min      0.699861    0.025578    3.396778     1.229900   1693.624320  ...   \n",
       "25%      4.128294    0.025578    8.129580     1.229900   4155.702870  ...   \n",
       "50%      5.031912    0.025578   10.461320     1.229900   4997.960730  ...   \n",
       "75%      6.431634    0.036845   12.969516     5.081244   6035.885700  ...   \n",
       "max     38.270880   10.315851   38.971568  1463.693448  53060.599240  ...   \n",
       "\n",
       "               FL           FR          FS          GB           GE  \\\n",
       "count  616.000000   617.000000  615.000000  617.000000   617.000000   \n",
       "mean     5.433199     3.533905    0.421501   20.724856   131.714987   \n",
       "std     11.496257    50.181948    1.305365    9.991907   144.181524   \n",
       "min      0.173229     0.497060    0.067730    4.102182    72.611063   \n",
       "25%      0.173229     0.497060    0.067730   14.036718    72.611063   \n",
       "50%      3.028141     1.131000    0.250601   18.771436    72.611063   \n",
       "75%      6.238814     1.512060    0.535067   25.608406   127.591671   \n",
       "max    137.932739  1244.227020   31.365763  135.781294  1497.351958   \n",
       "\n",
       "                  GF          GH          GI          GL       Class  \n",
       "count     617.000000  617.000000  617.000000  616.000000  617.000000  \n",
       "mean    14679.595398   31.489716   50.584437    8.530961    0.175041  \n",
       "std     19352.959387    9.864239   36.266251   10.327010    0.380310  \n",
       "min        13.038894    9.432735    0.897628    0.001129    0.000000  \n",
       "25%      2798.992584   25.034888   23.011684    0.124392    0.000000  \n",
       "50%      7838.273610   30.608946   41.007968    0.337827    0.000000  \n",
       "75%     19035.709240   36.863947   67.931664   21.978000    0.000000  \n",
       "max    143790.071200   81.210825  191.194764   21.978000    1.000000  \n",
       "\n",
       "[8 rows x 56 columns]"
      ]
     },
     "execution_count": 9,
     "metadata": {},
     "output_type": "execute_result"
    }
   ],
   "source": [
    "# Let's take a look at the data distribution\n",
    "train_df.describe()"
   ]
  },
  {
   "cell_type": "code",
   "execution_count": 10,
   "id": "f185db41",
   "metadata": {
    "execution": {
     "iopub.execute_input": "2023-08-10T00:01:35.202938Z",
     "iopub.status.busy": "2023-08-10T00:01:35.202397Z",
     "iopub.status.idle": "2023-08-10T00:01:35.212150Z",
     "shell.execute_reply": "2023-08-10T00:01:35.210397Z"
    },
    "papermill": {
     "duration": 0.02587,
     "end_time": "2023-08-10T00:01:35.214163",
     "exception": false,
     "start_time": "2023-08-10T00:01:35.188293",
     "status": "completed"
    },
    "tags": []
   },
   "outputs": [
    {
     "name": "stdout",
     "output_type": "stream",
     "text": [
      "       Empty Cells\n",
      "Id               0\n",
      "AB               0\n",
      "AF               0\n",
      "AH               0\n",
      "AM               0\n",
      "AR               0\n",
      "AX               0\n",
      "AY               0\n",
      "AZ               0\n",
      "BC               0\n",
      "BD               0\n",
      "BN               0\n",
      "BP               0\n",
      "BQ              60\n",
      "BR               0\n",
      "BZ               0\n",
      "CB               2\n",
      "CC               3\n",
      "CD               0\n",
      "CF               0\n",
      "CH               0\n",
      "CL               0\n",
      "CR               0\n",
      "CS               0\n",
      "CU               0\n",
      "CW               0\n",
      "DA               0\n",
      "DE               0\n",
      "DF               0\n",
      "DH               0\n",
      "DI               0\n",
      "DL               0\n",
      "DN               0\n",
      "DU               1\n",
      "DV               0\n",
      "DY               0\n",
      "EB               0\n",
      "EE               0\n",
      "EG               0\n",
      "EH               0\n",
      "EJ               0\n",
      "EL              60\n",
      "EP               0\n",
      "EU               0\n",
      "FC               1\n",
      "FD               0\n",
      "FE               0\n",
      "FI               0\n",
      "FL               1\n",
      "FR               0\n",
      "FS               2\n",
      "GB               0\n",
      "GE               0\n",
      "GF               0\n",
      "GH               0\n",
      "GI               0\n",
      "GL               1\n",
      "Class            0\n"
     ]
    }
   ],
   "source": [
    "# check the number of null values in the train_df. \n",
    "missing_data = train_df.isnull().sum().to_frame()\n",
    "\n",
    "# Rename column holding the sums\n",
    "missing_data = missing_data.rename(columns={0:'Empty Cells'})\n",
    "\n",
    "# Print the results\n",
    "print(missing_data)"
   ]
  },
  {
   "cell_type": "code",
   "execution_count": 11,
   "id": "5cbeefdf",
   "metadata": {
    "execution": {
     "iopub.execute_input": "2023-08-10T00:01:35.242550Z",
     "iopub.status.busy": "2023-08-10T00:01:35.241831Z",
     "iopub.status.idle": "2023-08-10T00:01:35.832062Z",
     "shell.execute_reply": "2023-08-10T00:01:35.831147Z"
    },
    "papermill": {
     "duration": 0.606797,
     "end_time": "2023-08-10T00:01:35.834269",
     "exception": false,
     "start_time": "2023-08-10T00:01:35.227472",
     "status": "completed"
    },
    "tags": []
   },
   "outputs": [
    {
     "data": {
      "text/plain": [
       "<Axes: >"
      ]
     },
     "execution_count": 11,
     "metadata": {},
     "output_type": "execute_result"
    },
    {
     "data": {
      "image/png": "[encoded data removed]",
      "text/plain": [
       "<Figure size 1000x500 with 2 Axes>"
      ]
     },
     "metadata": {},
     "output_type": "display_data"
    }
   ],
   "source": [
    "#Let's visualize the midding data\n",
    "# import missingno package\n",
    "import missingno as msno\n",
    "\n",
    "# Plot a matrix chart, set chart and font size\n",
    "msno.matrix(train_df, figsize=(10,5), fontsize=11)"
   ]
  },
  {
   "cell_type": "markdown",
   "id": "ab78c401",
   "metadata": {
    "papermill": {
     "duration": 0.013628,
     "end_time": "2023-08-10T00:01:35.862063",
     "exception": false,
     "start_time": "2023-08-10T00:01:35.848435",
     "status": "completed"
    },
    "tags": []
   },
   "source": [
    "The white bars in the graph above show missing data. It seems there is some relationship between the columns with missing data. For example, the rows where data are missing for EQ are also missing data for EL. "
   ]
  },
  {
   "cell_type": "code",
   "execution_count": 12,
   "id": "b2807f34",
   "metadata": {
    "execution": {
     "iopub.execute_input": "2023-08-10T00:01:35.891123Z",
     "iopub.status.busy": "2023-08-10T00:01:35.890836Z",
     "iopub.status.idle": "2023-08-10T00:01:35.904525Z",
     "shell.execute_reply": "2023-08-10T00:01:35.903026Z"
    },
    "papermill": {
     "duration": 0.030439,
     "end_time": "2023-08-10T00:01:35.906393",
     "exception": false,
     "start_time": "2023-08-10T00:01:35.875954",
     "status": "completed"
    },
    "tags": []
   },
   "outputs": [
    {
     "name": "stdout",
     "output_type": "stream",
     "text": [
      "98.32873688509873\n",
      "77.17295015521911\n",
      "1.1635499699761689\n",
      "1.9593442513534824\n",
      "72.37800659903715\n",
      "71.38526558328216\n",
      "5.583758864943435\n",
      "0.7388662929824918\n",
      "8.676500164278929\n"
     ]
    }
   ],
   "source": [
    "#fill the null values with the average of that columns values\n",
    "for column in ['BQ', 'CB', 'CC', 'DU', 'EL', 'FC', 'FL', 'FS', 'GL']:\n",
    "    avg = train_df[column].mean()\n",
    "    train_df.fillna(value=avg, inplace=True)\n",
    "    print(avg)"
   ]
  },
  {
   "cell_type": "code",
   "execution_count": 13,
   "id": "113388fb",
   "metadata": {
    "execution": {
     "iopub.execute_input": "2023-08-10T00:01:35.936846Z",
     "iopub.status.busy": "2023-08-10T00:01:35.935900Z",
     "iopub.status.idle": "2023-08-10T00:01:35.944652Z",
     "shell.execute_reply": "2023-08-10T00:01:35.943664Z"
    },
    "papermill": {
     "duration": 0.025835,
     "end_time": "2023-08-10T00:01:35.946663",
     "exception": false,
     "start_time": "2023-08-10T00:01:35.920828",
     "status": "completed"
    },
    "tags": []
   },
   "outputs": [
    {
     "data": {
      "text/plain": [
       "Id     0\n",
       "AB     0\n",
       "AF     0\n",
       "AH     0\n",
       "AM     0\n",
       "AR     0\n",
       "AX     0\n",
       "AY     0\n",
       "AZ     0\n",
       "BC     0\n",
       "BD     0\n",
       "BN     0\n",
       "BP     0\n",
       "BQ     0\n",
       "BR     0\n",
       "BZ     0\n",
       "CB     0\n",
       "CC     0\n",
       "CD     0\n",
       "CF     0\n",
       "CH     0\n",
       "CL     0\n",
       "CR     0\n",
       "CS     0\n",
       "CU     0\n",
       "CW     0\n",
       "DA     0\n",
       "DE     0\n",
       "DF     0\n",
       "DH     0\n",
       "DI     0\n",
       "DL     0\n",
       "DN     0\n",
       "DU     0\n",
       "DV     0\n",
       "DY     0\n",
       "EB     0\n",
       "EE     0\n",
       "EG     0\n",
       "EH     0\n",
       "EJ     0\n",
       "EL     0\n",
       "EP     0\n",
       "EU     0\n",
       "FC     0\n",
       "FD     0\n",
       "FE     0\n",
       "FI     0\n",
       "FL     0\n",
       "FR     0\n",
       "FS     0\n",
       "GB     0\n",
       "GE     0\n",
       "GF     0\n",
       "GH     0\n",
       "GI     0\n",
       "GL     0\n",
       "dtype: int64"
      ]
     },
     "execution_count": 13,
     "metadata": {},
     "output_type": "execute_result"
    }
   ],
   "source": [
    "# check the number of null values in the test_df\n",
    "test_df.isna().sum()"
   ]
  },
  {
   "cell_type": "code",
   "execution_count": 14,
   "id": "0ccb5742",
   "metadata": {
    "execution": {
     "iopub.execute_input": "2023-08-10T00:01:35.977282Z",
     "iopub.status.busy": "2023-08-10T00:01:35.976468Z",
     "iopub.status.idle": "2023-08-10T00:01:35.983303Z",
     "shell.execute_reply": "2023-08-10T00:01:35.982361Z"
    },
    "papermill": {
     "duration": 0.023996,
     "end_time": "2023-08-10T00:01:35.985308",
     "exception": false,
     "start_time": "2023-08-10T00:01:35.961312",
     "status": "completed"
    },
    "tags": []
   },
   "outputs": [
    {
     "data": {
      "text/plain": [
       "Index(['Id', 'AB', 'AF', 'AH', 'AM', 'AR', 'AX', 'AY', 'AZ', 'BC', 'BD ', 'BN',\n",
       "       'BP', 'BQ', 'BR', 'BZ', 'CB', 'CC', 'CD ', 'CF', 'CH', 'CL', 'CR', 'CS',\n",
       "       'CU', 'CW ', 'DA', 'DE', 'DF', 'DH', 'DI', 'DL', 'DN', 'DU', 'DV', 'DY',\n",
       "       'EB', 'EE', 'EG', 'EH', 'EJ', 'EL', 'EP', 'EU', 'FC', 'FD ', 'FE', 'FI',\n",
       "       'FL', 'FR', 'FS', 'GB', 'GE', 'GF', 'GH', 'GI', 'GL', 'Class'],\n",
       "      dtype='object')"
      ]
     },
     "execution_count": 14,
     "metadata": {},
     "output_type": "execute_result"
    }
   ],
   "source": [
    "# Let's get the name of all the columns of the training set\n",
    "train_df.columns"
   ]
  },
  {
   "cell_type": "markdown",
   "id": "dfa70dba",
   "metadata": {
    "papermill": {
     "duration": 0.014328,
     "end_time": "2023-08-10T00:01:36.013916",
     "exception": false,
     "start_time": "2023-08-10T00:01:35.999588",
     "status": "completed"
    },
    "tags": []
   },
   "source": [
    "The 'Class' is column is what we aim to be able to predict with our model. Let's visualize the classes to know how it is distributed among the two classes (0 and 1)"
   ]
  },
  {
   "cell_type": "code",
   "execution_count": 15,
   "id": "e64d9359",
   "metadata": {
    "execution": {
     "iopub.execute_input": "2023-08-10T00:01:36.044451Z",
     "iopub.status.busy": "2023-08-10T00:01:36.044093Z",
     "iopub.status.idle": "2023-08-10T00:01:36.052680Z",
     "shell.execute_reply": "2023-08-10T00:01:36.051695Z"
    },
    "papermill": {
     "duration": 0.026418,
     "end_time": "2023-08-10T00:01:36.054659",
     "exception": false,
     "start_time": "2023-08-10T00:01:36.028241",
     "status": "completed"
    },
    "tags": []
   },
   "outputs": [
    {
     "data": {
      "text/plain": [
       "0    509\n",
       "1    108\n",
       "Name: Class, dtype: int64"
      ]
     },
     "execution_count": 15,
     "metadata": {},
     "output_type": "execute_result"
    }
   ],
   "source": [
    "# check to see the the total amount of each label contained in the data. It looks like the data is imbalanced. \n",
    "# Might have to utilize some resampling techniques.\n",
    "train_df['Class'].value_counts()"
   ]
  },
  {
   "cell_type": "code",
   "execution_count": 16,
   "id": "6a32f904",
   "metadata": {
    "execution": {
     "iopub.execute_input": "2023-08-10T00:01:36.085200Z",
     "iopub.status.busy": "2023-08-10T00:01:36.084422Z",
     "iopub.status.idle": "2023-08-10T00:01:36.223016Z",
     "shell.execute_reply": "2023-08-10T00:01:36.221893Z"
    },
    "papermill": {
     "duration": 0.15727,
     "end_time": "2023-08-10T00:01:36.226400",
     "exception": false,
     "start_time": "2023-08-10T00:01:36.069130",
     "status": "completed"
    },
    "tags": []
   },
   "outputs": [
    {
     "data": {
      "text/plain": [
       "<Axes: ylabel='Class'>"
      ]
     },
     "execution_count": 16,
     "metadata": {},
     "output_type": "execute_result"
    },
    {
     "data": {
      "image/png": "[encoded data removed]",
      "text/plain": [
       "<Figure size 640x480 with 1 Axes>"
      ]
     },
     "metadata": {},
     "output_type": "display_data"
    }
   ],
   "source": [
    "# Visualizing the Classes\n",
    "plot_df = train_df.Class.value_counts()\n",
    "plot_df.plot(kind=\"pie\")"
   ]
  },
  {
   "cell_type": "markdown",
   "id": "ada5c4cb",
   "metadata": {
    "papermill": {
     "duration": 0.031939,
     "end_time": "2023-08-10T00:01:36.290811",
     "exception": false,
     "start_time": "2023-08-10T00:01:36.258872",
     "status": "completed"
    },
    "tags": []
   },
   "source": [
    "The data is imbalanced and we will employ some technique to address it."
   ]
  },
  {
   "cell_type": "markdown",
   "id": "96b04cb9",
   "metadata": {
    "papermill": {
     "duration": 0.014384,
     "end_time": "2023-08-10T00:01:36.332488",
     "exception": false,
     "start_time": "2023-08-10T00:01:36.318104",
     "status": "completed"
    },
    "tags": []
   },
   "source": [
    "## Data Preprocessing"
   ]
  },
  {
   "cell_type": "markdown",
   "id": "23fa1d2d",
   "metadata": {
    "papermill": {
     "duration": 0.014402,
     "end_time": "2023-08-10T00:01:36.361470",
     "exception": false,
     "start_time": "2023-08-10T00:01:36.347068",
     "status": "completed"
    },
    "tags": []
   },
   "source": [
    "We will drop the Id and EJ columns which are both string columns. The Id column is not useful for the modeling. For the EJ column, we could employ one-hot encoding to convert it to numerical columns but we decided to drop it because the test set provided only has one category of value for the EJ column as opposed to two categories in the training set. "
   ]
  },
  {
   "cell_type": "code",
   "execution_count": 17,
   "id": "4d63865b",
   "metadata": {
    "execution": {
     "iopub.execute_input": "2023-08-10T00:01:36.392263Z",
     "iopub.status.busy": "2023-08-10T00:01:36.391981Z",
     "iopub.status.idle": "2023-08-10T00:01:36.399577Z",
     "shell.execute_reply": "2023-08-10T00:01:36.398689Z"
    },
    "papermill": {
     "duration": 0.025353,
     "end_time": "2023-08-10T00:01:36.401727",
     "exception": false,
     "start_time": "2023-08-10T00:01:36.376374",
     "status": "completed"
    },
    "tags": []
   },
   "outputs": [
    {
     "data": {
      "text/plain": [
       "(617, 56)"
      ]
     },
     "execution_count": 17,
     "metadata": {},
     "output_type": "execute_result"
    }
   ],
   "source": [
    "# Let's drop the Id, and EJ columns\n",
    "\n",
    "train_df.drop([\"Id\", \"EJ\"], inplace=True, axis=1)\n",
    "train_df.shape"
   ]
  },
  {
   "cell_type": "markdown",
   "id": "d36b5eee",
   "metadata": {
    "papermill": {
     "duration": 0.014546,
     "end_time": "2023-08-10T00:01:36.431306",
     "exception": false,
     "start_time": "2023-08-10T00:01:36.416760",
     "status": "completed"
    },
    "tags": []
   },
   "source": [
    "### Addressing data imbalance"
   ]
  },
  {
   "cell_type": "markdown",
   "id": "c7394086",
   "metadata": {
    "papermill": {
     "duration": 0.014562,
     "end_time": "2023-08-10T00:01:36.461113",
     "exception": false,
     "start_time": "2023-08-10T00:01:36.446551",
     "status": "completed"
    },
    "tags": []
   },
   "source": [
    "We will use class weighting to address the imbalance in the dataset. "
   ]
  },
  {
   "cell_type": "code",
   "execution_count": 18,
   "id": "16e81233",
   "metadata": {
    "execution": {
     "iopub.execute_input": "2023-08-10T00:01:36.492286Z",
     "iopub.status.busy": "2023-08-10T00:01:36.491467Z",
     "iopub.status.idle": "2023-08-10T00:01:36.497881Z",
     "shell.execute_reply": "2023-08-10T00:01:36.496998Z"
    },
    "papermill": {
     "duration": 0.023929,
     "end_time": "2023-08-10T00:01:36.499847",
     "exception": false,
     "start_time": "2023-08-10T00:01:36.475918",
     "status": "completed"
    },
    "tags": []
   },
   "outputs": [
    {
     "name": "stdout",
     "output_type": "stream",
     "text": [
      "Examples:\n",
      "    Total: 617\n",
      "    Positive: 108 (17.50% of total)\n",
      "\n"
     ]
    }
   ],
   "source": [
    "# Calculate the number of negative and positive values in `Class` column\n",
    "neg, pos = np.bincount(train_df['Class'])\n",
    "# Calculate total samples\n",
    "total = neg + pos\n",
    "print(f'Examples:\\n    Total: {total}\\n    Positive: {pos} ({100 * pos / total:.2f}% of total)\\n')"
   ]
  },
  {
   "cell_type": "code",
   "execution_count": 19,
   "id": "8b69ac99",
   "metadata": {
    "execution": {
     "iopub.execute_input": "2023-08-10T00:01:36.531093Z",
     "iopub.status.busy": "2023-08-10T00:01:36.530567Z",
     "iopub.status.idle": "2023-08-10T00:01:36.536692Z",
     "shell.execute_reply": "2023-08-10T00:01:36.535834Z"
    },
    "papermill": {
     "duration": 0.024145,
     "end_time": "2023-08-10T00:01:36.538922",
     "exception": false,
     "start_time": "2023-08-10T00:01:36.514777",
     "status": "completed"
    },
    "tags": []
   },
   "outputs": [
    {
     "name": "stdout",
     "output_type": "stream",
     "text": [
      "Weight for class 0: 0.61\n",
      "Weight for class 1: 2.86\n"
     ]
    }
   ],
   "source": [
    "# Calculate the number of samples for each label.\n",
    "neg, pos = np.bincount(train_df['Class'])\n",
    "\n",
    "# Calculate total samples.\n",
    "total = neg + pos\n",
    "\n",
    "# Calculate the weight for each label.\n",
    "weight_for_0 = (1 / neg) * (total / 2.0)\n",
    "weight_for_1 = (1 / pos) * (total / 2.0)\n",
    "\n",
    "class_weight = {0: weight_for_0, 1: weight_for_1}\n",
    "\n",
    "print(f'Weight for class 0: {weight_for_0:.2f}')\n",
    "print(f'Weight for class 1: {weight_for_1:.2f}')"
   ]
  },
  {
   "cell_type": "markdown",
   "id": "25e22677",
   "metadata": {
    "execution": {
     "iopub.execute_input": "2023-08-04T23:04:46.572192Z",
     "iopub.status.busy": "2023-08-04T23:04:46.571244Z",
     "iopub.status.idle": "2023-08-04T23:04:46.576152Z",
     "shell.execute_reply": "2023-08-04T23:04:46.575263Z",
     "shell.execute_reply.started": "2023-08-04T23:04:46.572161Z"
    },
    "papermill": {
     "duration": 0.014616,
     "end_time": "2023-08-10T00:01:36.568342",
     "exception": false,
     "start_time": "2023-08-10T00:01:36.553726",
     "status": "completed"
    },
    "tags": []
   },
   "source": [
    "### Data Normalization"
   ]
  },
  {
   "cell_type": "code",
   "execution_count": 20,
   "id": "c269949d",
   "metadata": {
    "execution": {
     "iopub.execute_input": "2023-08-10T00:01:36.599759Z",
     "iopub.status.busy": "2023-08-10T00:01:36.598961Z",
     "iopub.status.idle": "2023-08-10T00:01:36.624513Z",
     "shell.execute_reply": "2023-08-10T00:01:36.623557Z"
    },
    "papermill": {
     "duration": 0.043214,
     "end_time": "2023-08-10T00:01:36.626527",
     "exception": false,
     "start_time": "2023-08-10T00:01:36.583313",
     "status": "completed"
    },
    "tags": []
   },
   "outputs": [
    {
     "data": {
      "text/html": [
       "<div>\n",
       "<style scoped>\n",
       "    .dataframe tbody tr th:only-of-type {\n",
       "        vertical-align: middle;\n",
       "    }\n",
       "\n",
       "    .dataframe tbody tr th {\n",
       "        vertical-align: top;\n",
       "    }\n",
       "\n",
       "    .dataframe thead th {\n",
       "        text-align: right;\n",
       "    }\n",
       "</style>\n",
       "<table border=\"1\" class=\"dataframe\">\n",
       "  <thead>\n",
       "    <tr style=\"text-align: right;\">\n",
       "      <th></th>\n",
       "      <th>AB</th>\n",
       "      <th>AF</th>\n",
       "      <th>AH</th>\n",
       "      <th>AM</th>\n",
       "      <th>AR</th>\n",
       "      <th>AX</th>\n",
       "      <th>AY</th>\n",
       "      <th>AZ</th>\n",
       "      <th>BC</th>\n",
       "      <th>BD</th>\n",
       "      <th>...</th>\n",
       "      <th>FI</th>\n",
       "      <th>FL</th>\n",
       "      <th>FR</th>\n",
       "      <th>FS</th>\n",
       "      <th>GB</th>\n",
       "      <th>GE</th>\n",
       "      <th>GF</th>\n",
       "      <th>GH</th>\n",
       "      <th>GI</th>\n",
       "      <th>GL</th>\n",
       "    </tr>\n",
       "  </thead>\n",
       "  <tbody>\n",
       "    <tr>\n",
       "      <th>0</th>\n",
       "      <td>-0.571689</td>\n",
       "      <td>-0.170837</td>\n",
       "      <td>-0.261457</td>\n",
       "      <td>-0.237696</td>\n",
       "      <td>-0.189141</td>\n",
       "      <td>-1.899018</td>\n",
       "      <td>-0.08335</td>\n",
       "      <td>-0.173361</td>\n",
       "      <td>-0.038323</td>\n",
       "      <td>-0.405054</td>\n",
       "      <td>...</td>\n",
       "      <td>-2.224803</td>\n",
       "      <td>0.141916</td>\n",
       "      <td>-0.035777</td>\n",
       "      <td>-0.112592</td>\n",
       "      <td>-0.939332</td>\n",
       "      <td>-0.409927</td>\n",
       "      <td>-0.654979</td>\n",
       "      <td>-0.948222</td>\n",
       "      <td>0.530811</td>\n",
       "      <td>-0.782558</td>\n",
       "    </tr>\n",
       "    <tr>\n",
       "      <th>1</th>\n",
       "      <td>-0.708530</td>\n",
       "      <td>-1.096911</td>\n",
       "      <td>-0.261457</td>\n",
       "      <td>-0.028678</td>\n",
       "      <td>-0.189141</td>\n",
       "      <td>-0.749849</td>\n",
       "      <td>-0.08335</td>\n",
       "      <td>0.678369</td>\n",
       "      <td>-0.104702</td>\n",
       "      <td>0.048502</td>\n",
       "      <td>...</td>\n",
       "      <td>0.084474</td>\n",
       "      <td>-0.447877</td>\n",
       "      <td>-0.060517</td>\n",
       "      <td>-0.029708</td>\n",
       "      <td>-1.144142</td>\n",
       "      <td>-0.409927</td>\n",
       "      <td>0.687335</td>\n",
       "      <td>-0.238669</td>\n",
       "      <td>-0.508805</td>\n",
       "      <td>1.216573</td>\n",
       "    </tr>\n",
       "    <tr>\n",
       "      <th>2</th>\n",
       "      <td>-0.015200</td>\n",
       "      <td>-0.376863</td>\n",
       "      <td>-0.261457</td>\n",
       "      <td>-0.094768</td>\n",
       "      <td>-0.189141</td>\n",
       "      <td>0.465284</td>\n",
       "      <td>-0.08335</td>\n",
       "      <td>0.519032</td>\n",
       "      <td>-0.104702</td>\n",
       "      <td>-0.071031</td>\n",
       "      <td>...</td>\n",
       "      <td>0.516641</td>\n",
       "      <td>0.175971</td>\n",
       "      <td>-0.050981</td>\n",
       "      <td>0.080409</td>\n",
       "      <td>1.636616</td>\n",
       "      <td>-0.298967</td>\n",
       "      <td>-0.051808</td>\n",
       "      <td>-0.351458</td>\n",
       "      <td>-0.424410</td>\n",
       "      <td>-0.775552</td>\n",
       "    </tr>\n",
       "  </tbody>\n",
       "</table>\n",
       "<p>3 rows × 55 columns</p>\n",
       "</div>"
      ],
      "text/plain": [
       "         AB        AF        AH        AM        AR        AX       AY  \\\n",
       "0 -0.571689 -0.170837 -0.261457 -0.237696 -0.189141 -1.899018 -0.08335   \n",
       "1 -0.708530 -1.096911 -0.261457 -0.028678 -0.189141 -0.749849 -0.08335   \n",
       "2 -0.015200 -0.376863 -0.261457 -0.094768 -0.189141  0.465284 -0.08335   \n",
       "\n",
       "         AZ        BC       BD   ...        FI        FL        FR        FS  \\\n",
       "0 -0.173361 -0.038323 -0.405054  ... -2.224803  0.141916 -0.035777 -0.112592   \n",
       "1  0.678369 -0.104702  0.048502  ...  0.084474 -0.447877 -0.060517 -0.029708   \n",
       "2  0.519032 -0.104702 -0.071031  ...  0.516641  0.175971 -0.050981  0.080409   \n",
       "\n",
       "         GB        GE        GF        GH        GI        GL  \n",
       "0 -0.939332 -0.409927 -0.654979 -0.948222  0.530811 -0.782558  \n",
       "1 -1.144142 -0.409927  0.687335 -0.238669 -0.508805  1.216573  \n",
       "2  1.636616 -0.298967 -0.051808 -0.351458 -0.424410 -0.775552  \n",
       "\n",
       "[3 rows x 55 columns]"
      ]
     },
     "execution_count": 20,
     "metadata": {},
     "output_type": "execute_result"
    }
   ],
   "source": [
    "# Normalize the feature columns\n",
    "features = train_df.drop(columns=['Class'])\n",
    "targets = train_df['Class']\n",
    "\n",
    "features = (features - features.mean()) / features.std()\n",
    "features.head(3)"
   ]
  },
  {
   "cell_type": "code",
   "execution_count": 21,
   "id": "61f49b7c",
   "metadata": {
    "execution": {
     "iopub.execute_input": "2023-08-10T00:01:36.658147Z",
     "iopub.status.busy": "2023-08-10T00:01:36.657893Z",
     "iopub.status.idle": "2023-08-10T00:01:36.663381Z",
     "shell.execute_reply": "2023-08-10T00:01:36.662523Z"
    },
    "papermill": {
     "duration": 0.023393,
     "end_time": "2023-08-10T00:01:36.665350",
     "exception": false,
     "start_time": "2023-08-10T00:01:36.641957",
     "status": "completed"
    },
    "tags": []
   },
   "outputs": [
    {
     "data": {
      "text/plain": [
       "((617, 55), (617,))"
      ]
     },
     "execution_count": 21,
     "metadata": {},
     "output_type": "execute_result"
    }
   ],
   "source": [
    "features.shape, targets.shape"
   ]
  },
  {
   "cell_type": "markdown",
   "id": "98455aed",
   "metadata": {
    "papermill": {
     "duration": 0.015264,
     "end_time": "2023-08-10T00:01:36.696005",
     "exception": false,
     "start_time": "2023-08-10T00:01:36.680741",
     "status": "completed"
    },
    "tags": []
   },
   "source": [
    "## Model"
   ]
  },
  {
   "cell_type": "code",
   "execution_count": 22,
   "id": "075a2506",
   "metadata": {
    "execution": {
     "iopub.execute_input": "2023-08-10T00:01:36.728267Z",
     "iopub.status.busy": "2023-08-10T00:01:36.727995Z",
     "iopub.status.idle": "2023-08-10T00:01:36.735208Z",
     "shell.execute_reply": "2023-08-10T00:01:36.734273Z"
    },
    "papermill": {
     "duration": 0.02557,
     "end_time": "2023-08-10T00:01:36.737175",
     "exception": false,
     "start_time": "2023-08-10T00:01:36.711605",
     "status": "completed"
    },
    "tags": []
   },
   "outputs": [],
   "source": [
    "# Building the model with Tensorflow Functional API\n",
    "from tensorflow.keras import regularizers\n",
    "\n",
    "def get_model():\n",
    "    inputs = keras.Input(shape=(None, 55))\n",
    "    features = layers.Dense(64, kernel_regularizer = regularizers.l2(0.01), activation='relu')(inputs)\n",
    "    features = layers.Dense(64, kernel_regularizer = regularizers.l2(0.01), activation='relu')(features)\n",
    "    features = layers.Dense(32, kernel_regularizer = regularizers.l2(0.01), activation='relu')(features)\n",
    "    features = layers.Dense(16, kernel_regularizer = regularizers.l2(0.01), activation='relu')(features)\n",
    "    outputs = layers.Dense(1, activation='sigmoid')(features)\n",
    "    model = keras.Model(inputs, outputs)\n",
    "    model.compile(optimizer='adam', loss='BinaryCrossentropy', metrics='accuracy')\n",
    "    return model"
   ]
  },
  {
   "cell_type": "code",
   "execution_count": 23,
   "id": "ff9ec6c1",
   "metadata": {
    "execution": {
     "iopub.execute_input": "2023-08-10T00:01:36.769319Z",
     "iopub.status.busy": "2023-08-10T00:01:36.768561Z",
     "iopub.status.idle": "2023-08-10T00:01:36.776241Z",
     "shell.execute_reply": "2023-08-10T00:01:36.775427Z"
    },
    "papermill": {
     "duration": 0.025679,
     "end_time": "2023-08-10T00:01:36.778064",
     "exception": false,
     "start_time": "2023-08-10T00:01:36.752385",
     "status": "completed"
    },
    "tags": []
   },
   "outputs": [],
   "source": [
    "# Define functions to plot loss and accuracy\n",
    "\n",
    "# Plot loss values\n",
    "def plot_loss(loss, validation_loss):\n",
    "    epochs = range(1, len(loss) + 1)\n",
    "    plt.plot(epochs, loss, \"b\", label=\"Training loss\")\n",
    "    plt.plot(epochs, validation_loss, \"r\", label=\"Validation loss\")\n",
    "    plt.title(\"Training & validation loss\")\n",
    "    plt.xlabel(\"Epochs\")\n",
    "    plt.ylabel(\"Loss\")\n",
    "    plt.legend()\n",
    "    plt.show()\n",
    "\n",
    "# Plot accuracy values\n",
    "def plot_accuracy(accuracy, val_accuracy):\n",
    "    epochs = range(1, len(accuracy) + 1)\n",
    "    plt.plot(epochs, accuracy, \"b\", label=\"Training acc\")\n",
    "    plt.plot(epochs, val_accuracy, \"r\", label=\"Validation acc\")\n",
    "    plt.title(\"Training & validation accuracy\")\n",
    "    plt.xlabel(\"Epochs\")\n",
    "    plt.ylabel(\"Accuracy\")\n",
    "    plt.legend()\n",
    "    plt.show()"
   ]
  },
  {
   "cell_type": "markdown",
   "id": "0e4a4119",
   "metadata": {
    "papermill": {
     "duration": 0.021068,
     "end_time": "2023-08-10T00:01:36.814470",
     "exception": false,
     "start_time": "2023-08-10T00:01:36.793402",
     "status": "completed"
    },
    "tags": []
   },
   "source": [
    "## Training the model with k-fold cross validation"
   ]
  },
  {
   "cell_type": "code",
   "execution_count": 24,
   "id": "c28fc32e",
   "metadata": {
    "execution": {
     "iopub.execute_input": "2023-08-10T00:01:36.846694Z",
     "iopub.status.busy": "2023-08-10T00:01:36.846419Z",
     "iopub.status.idle": "2023-08-10T00:02:10.268151Z",
     "shell.execute_reply": "2023-08-10T00:02:10.267176Z"
    },
    "papermill": {
     "duration": 33.44018,
     "end_time": "2023-08-10T00:02:10.270261",
     "exception": false,
     "start_time": "2023-08-10T00:01:36.830081",
     "status": "completed"
    },
    "tags": []
   },
   "outputs": [
    {
     "name": "stdout",
     "output_type": "stream",
     "text": [
      "_______FOLD: 1_______ \n",
      "\n"
     ]
    },
    {
     "data": {
      "image/png": "[encoded data removed]",
      "text/plain": [
       "<Figure size 640x480 with 1 Axes>"
      ]
     },
     "metadata": {},
     "output_type": "display_data"
    },
    {
     "data": {
      "image/png": "[encoded data removed]",
      "text/plain": [
       "<Figure size 640x480 with 1 Axes>"
      ]
     },
     "metadata": {},
     "output_type": "display_data"
    },
    {
     "name": "stdout",
     "output_type": "stream",
     "text": [
      "4/4 [==============================] - 0s 2ms/step\n",
      "4/4 [==============================] - 0s 4ms/step - loss: 0.7703 - accuracy: 0.9113\n",
      "Validation Accuracy: 0.9113, Area Under the Curve: 0.8944\n",
      "\n",
      "_______FOLD: 2_______ \n",
      "\n"
     ]
    },
    {
     "data": {
      "image/png": "[encoded data removed]",
      "text/plain": [
       "<Figure size 640x480 with 1 Axes>"
      ]
     },
     "metadata": {},
     "output_type": "display_data"
    },
    {
     "data": {
      "image/png": "[encoded data removed]",
      "text/plain": [
       "<Figure size 640x480 with 1 Axes>"
      ]
     },
     "metadata": {},
     "output_type": "display_data"
    },
    {
     "name": "stdout",
     "output_type": "stream",
     "text": [
      "4/4 [==============================] - 0s 2ms/step\n",
      "4/4 [==============================] - 0s 3ms/step - loss: 0.9953 - accuracy: 0.8871\n",
      "Validation Accuracy: 0.8871, Area Under the Curve: 0.8886\n",
      "\n",
      "_______FOLD: 3_______ \n",
      "\n"
     ]
    },
    {
     "data": {
      "image/png": "[encoded data removed]",
      "text/plain": [
       "<Figure size 640x480 with 1 Axes>"
      ]
     },
     "metadata": {},
     "output_type": "display_data"
    },
    {
     "data": {
      "image/png": "[encoded data removed]",
      "text/plain": [
       "<Figure size 640x480 with 1 Axes>"
      ]
     },
     "metadata": {},
     "output_type": "display_data"
    },
    {
     "name": "stdout",
     "output_type": "stream",
     "text": [
      "4/4 [==============================] - 0s 2ms/step\n",
      "4/4 [==============================] - 0s 10ms/step - loss: 0.7140 - accuracy: 0.8780\n",
      "Validation Accuracy: 0.8780, Area Under the Curve: 0.9334\n",
      "\n",
      "_______FOLD: 4_______ \n",
      "\n"
     ]
    },
    {
     "data": {
      "image/png": "[encoded data removed]",
      "text/plain": [
       "<Figure size 640x480 with 1 Axes>"
      ]
     },
     "metadata": {},
     "output_type": "display_data"
    },
    {
     "data": {
      "image/png": "[encoded data removed]",
      "text/plain": [
       "<Figure size 640x480 with 1 Axes>"
      ]
     },
     "metadata": {},
     "output_type": "display_data"
    },
    {
     "name": "stdout",
     "output_type": "stream",
     "text": [
      "4/4 [==============================] - 0s 2ms/step\n",
      "4/4 [==============================] - 0s 4ms/step - loss: 0.5250 - accuracy: 0.9268\n",
      "Validation Accuracy: 0.9268, Area Under the Curve: 0.9748\n",
      "\n",
      "_______FOLD: 5_______ \n",
      "\n"
     ]
    },
    {
     "data": {
      "image/png": "[encoded data removed]",
      "text/plain": [
       "<Figure size 640x480 with 1 Axes>"
      ]
     },
     "metadata": {},
     "output_type": "display_data"
    },
    {
     "data": {
      "image/png": "[encoded data removed]",
      "text/plain": [
       "<Figure size 640x480 with 1 Axes>"
      ]
     },
     "metadata": {},
     "output_type": "display_data"
    },
    {
     "name": "stdout",
     "output_type": "stream",
     "text": [
      "4/4 [==============================] - 0s 2ms/step\n",
      "4/4 [==============================] - 0s 3ms/step - loss: 1.0411 - accuracy: 0.9024\n",
      "Validation Accuracy: 0.9024, Area Under the Curve: 0.9468\n",
      "\n",
      "\n",
      "\n",
      "Average Validation Accuracy: 0.9011, Out of fold area under curve: 0.9276\n",
      "\n"
     ]
    }
   ],
   "source": [
    "# Training the model with k-fold\n",
    "from sklearn.metrics import roc_auc_score\n",
    "\n",
    "# Break up the data into testing and training samples using KFold method\n",
    "k_fold = StratifiedKFold(n_splits=5, shuffle=True, random_state = 2)\n",
    "fold = 1\n",
    "aucs = []\n",
    "validation_accuracy = []\n",
    "\n",
    "# create empty dictionary to save the models\n",
    "models = {}\n",
    "\n",
    "callbacks_list = [keras.callbacks.EarlyStopping(monitor=\"val_accuracy\", patience=5)]\n",
    "\n",
    "for train_idx, test_idx in k_fold.split(features, targets):\n",
    "\n",
    "    # use the indicies to pull out training samples\n",
    "    X_tr = features.loc[train_idx]\n",
    "    y_tr = targets.loc[train_idx]\n",
    "\n",
    "    # use the indicies to pull out testing samples\n",
    "    X_val = features.loc[test_idx]\n",
    "    y_val = targets.loc[test_idx]\n",
    "    \n",
    "    print(f'_______FOLD: {fold}_______', '\\n')\n",
    "\n",
    "    # call the create model function then fit/train\n",
    "    model = get_model()\n",
    "    history = model.fit(x=X_tr, y=y_tr, epochs=100, class_weight=class_weight, callbacks=callbacks_list, validation_data = (X_val, y_val), verbose=0)\n",
    "\n",
    "    # Save the model\n",
    "    models[f\"fold_{fold}\"] = model\n",
    "    \n",
    "    # Obtain the metrics\n",
    "    loss = history.history['loss']\n",
    "    val_loss = history.history['val_loss']\n",
    "    acc = history.history['accuracy']\n",
    "    val_acc = history.history['val_accuracy']\n",
    "    \n",
    "    plot_loss(loss=loss, validation_loss=val_loss)\n",
    "    plot_accuracy(accuracy=acc, val_accuracy=val_acc)\n",
    "        \n",
    "    # Obtain the predictions\n",
    "    pred = model.predict(X_val)\n",
    "    val_scores = model.evaluate(x=X_val, y=y_val)\n",
    "    val_accuracy = val_scores[1]\n",
    "    area_under_curve = roc_auc_score(y_val, pred)\n",
    "    aucs.append(area_under_curve)\n",
    "    validation_accuracy.append(val_accuracy)\n",
    "    print(f'Validation Accuracy: {val_accuracy:0.4f}, Area Under the Curve: {area_under_curve:0.4f}\\n')\n",
    "\n",
    "    Out_of_fold_area_under_curve = np.mean(aucs)\n",
    "\n",
    "    fold += 1\n",
    "\n",
    "print(\"\\n\")\n",
    "\n",
    "print(f'Average Validation Accuracy: {np.mean(validation_accuracy):0.4f}, Out of fold area under curve: {Out_of_fold_area_under_curve:0.4f}\\n')"
   ]
  },
  {
   "cell_type": "code",
   "execution_count": 25,
   "id": "4b69f5ab",
   "metadata": {
    "execution": {
     "iopub.execute_input": "2023-08-10T00:02:10.319336Z",
     "iopub.status.busy": "2023-08-10T00:02:10.317723Z",
     "iopub.status.idle": "2023-08-10T00:02:10.324643Z",
     "shell.execute_reply": "2023-08-10T00:02:10.323697Z"
    },
    "papermill": {
     "duration": 0.032947,
     "end_time": "2023-08-10T00:02:10.326836",
     "exception": false,
     "start_time": "2023-08-10T00:02:10.293889",
     "status": "completed"
    },
    "tags": []
   },
   "outputs": [
    {
     "data": {
      "text/plain": [
       "dict_keys(['fold_1', 'fold_2', 'fold_3', 'fold_4', 'fold_5'])"
      ]
     },
     "execution_count": 25,
     "metadata": {},
     "output_type": "execute_result"
    }
   ],
   "source": [
    "models.keys()"
   ]
  },
  {
   "cell_type": "markdown",
   "id": "553fe7e9",
   "metadata": {
    "papermill": {
     "duration": 0.022441,
     "end_time": "2023-08-10T00:02:10.372415",
     "exception": false,
     "start_time": "2023-08-10T00:02:10.349974",
     "status": "completed"
    },
    "tags": []
   },
   "source": [
    "## Prediction\n",
    "We will predict the dummy test set with the model"
   ]
  },
  {
   "cell_type": "code",
   "execution_count": 26,
   "id": "fbc8c709",
   "metadata": {
    "execution": {
     "iopub.execute_input": "2023-08-10T00:02:10.421283Z",
     "iopub.status.busy": "2023-08-10T00:02:10.420328Z",
     "iopub.status.idle": "2023-08-10T00:02:10.428881Z",
     "shell.execute_reply": "2023-08-10T00:02:10.427792Z"
    },
    "papermill": {
     "duration": 0.036017,
     "end_time": "2023-08-10T00:02:10.431722",
     "exception": false,
     "start_time": "2023-08-10T00:02:10.395705",
     "status": "completed"
    },
    "tags": []
   },
   "outputs": [
    {
     "data": {
      "text/plain": [
       "(5, 55)"
      ]
     },
     "execution_count": 26,
     "metadata": {},
     "output_type": "execute_result"
    }
   ],
   "source": [
    "# Drop the columns Id and EJ to maintain the same shape with the training data\n",
    "test_df.drop([\"Id\", \"EJ\"], inplace=True, axis=1)\n",
    "test_df.shape"
   ]
  },
  {
   "cell_type": "code",
   "execution_count": 27,
   "id": "5ffe65d1",
   "metadata": {
    "execution": {
     "iopub.execute_input": "2023-08-10T00:02:10.479831Z",
     "iopub.status.busy": "2023-08-10T00:02:10.479382Z",
     "iopub.status.idle": "2023-08-10T00:02:10.855509Z",
     "shell.execute_reply": "2023-08-10T00:02:10.854528Z"
    },
    "papermill": {
     "duration": 0.401827,
     "end_time": "2023-08-10T00:02:10.857445",
     "exception": false,
     "start_time": "2023-08-10T00:02:10.455618",
     "status": "completed"
    },
    "tags": []
   },
   "outputs": [
    {
     "name": "stdout",
     "output_type": "stream",
     "text": [
      "1/1 [==============================] - 0s 18ms/step\n",
      "fold_1 predictions:  [[0.84996256, 0.15003744], [0.84996256, 0.15003744], [0.84996256, 0.15003744], [0.84996256, 0.15003744], [0.84996256, 0.15003744]] \n",
      "\n",
      "1/1 [==============================] - 0s 18ms/step\n",
      "fold_2 predictions:  [[0.83038817, 0.16961183], [0.83038817, 0.16961183], [0.83038817, 0.16961183], [0.83038817, 0.16961183], [0.83038817, 0.16961183]] \n",
      "\n",
      "1/1 [==============================] - 0s 43ms/step\n",
      "fold_3 predictions:  [[0.85044476, 0.14955524], [0.85044476, 0.14955524], [0.85044476, 0.14955524], [0.85044476, 0.14955524], [0.85044476, 0.14955524]] \n",
      "\n",
      "1/1 [==============================] - 0s 17ms/step\n",
      "fold_4 predictions:  [[0.88263048, 0.11736952], [0.88263048, 0.11736952], [0.88263048, 0.11736952], [0.88263048, 0.11736952], [0.88263048, 0.11736952]] \n",
      "\n",
      "1/1 [==============================] - 0s 17ms/step\n",
      "fold_5 predictions:  [[0.75861235, 0.24138765], [0.75861235, 0.24138765], [0.75861235, 0.24138765], [0.75861235, 0.24138765], [0.75861235, 0.24138765]] \n",
      "\n"
     ]
    }
   ],
   "source": [
    "# Predict the test set with the models\n",
    "for i in models.keys():\n",
    "    pred = models[i].predict(test_df)\n",
    "    n_pred = [[round(abs(i-1), 8), i] for i in pred.ravel()]\n",
    "    print(f\"{i} predictions: \", n_pred, \"\\n\")"
   ]
  },
  {
   "cell_type": "markdown",
   "id": "7dfd6a26",
   "metadata": {
    "papermill": {
     "duration": 0.023924,
     "end_time": "2023-08-10T00:02:10.906072",
     "exception": false,
     "start_time": "2023-08-10T00:02:10.882148",
     "status": "completed"
    },
    "tags": []
   },
   "source": [
    "## Submission\n"
   ]
  },
  {
   "cell_type": "code",
   "execution_count": 28,
   "id": "94efca9b",
   "metadata": {
    "execution": {
     "iopub.execute_input": "2023-08-10T00:02:10.999481Z",
     "iopub.status.busy": "2023-08-10T00:02:10.999033Z",
     "iopub.status.idle": "2023-08-10T00:02:11.006880Z",
     "shell.execute_reply": "2023-08-10T00:02:11.005988Z"
    },
    "papermill": {
     "duration": 0.059711,
     "end_time": "2023-08-10T00:02:11.009055",
     "exception": false,
     "start_time": "2023-08-10T00:02:10.949344",
     "status": "completed"
    },
    "tags": []
   },
   "outputs": [],
   "source": [
    "FEATURE_COLUMNS = [i for i in train_df.columns if i not in [\"Id\"]]"
   ]
  },
  {
   "cell_type": "code",
   "execution_count": 29,
   "id": "c8631691",
   "metadata": {
    "execution": {
     "iopub.execute_input": "2023-08-10T00:02:11.057667Z",
     "iopub.status.busy": "2023-08-10T00:02:11.057378Z",
     "iopub.status.idle": "2023-08-10T00:02:11.069611Z",
     "shell.execute_reply": "2023-08-10T00:02:11.068782Z"
    },
    "papermill": {
     "duration": 0.039353,
     "end_time": "2023-08-10T00:02:11.071905",
     "exception": false,
     "start_time": "2023-08-10T00:02:11.032552",
     "status": "completed"
    },
    "tags": []
   },
   "outputs": [],
   "source": [
    "# Predict the test set with the model\n",
    "test_df = pd.read_csv('/kaggle/input/icr-identify-age-related-conditions/test.csv')\n",
    "test_df_columns = test_df.columns.tolist()\n",
    "TEST_FEATURE_COLUMNS = [i for i in FEATURE_COLUMNS \\\n",
    "                        if i in test_df_columns and i != \"Class\"]\n",
    "test_df = test_df[TEST_FEATURE_COLUMNS]"
   ]
  },
  {
   "cell_type": "code",
   "execution_count": 30,
   "id": "60873e39",
   "metadata": {
    "execution": {
     "iopub.execute_input": "2023-08-10T00:02:11.120585Z",
     "iopub.status.busy": "2023-08-10T00:02:11.120310Z",
     "iopub.status.idle": "2023-08-10T00:02:11.136213Z",
     "shell.execute_reply": "2023-08-10T00:02:11.135383Z"
    },
    "papermill": {
     "duration": 0.04239,
     "end_time": "2023-08-10T00:02:11.138163",
     "exception": false,
     "start_time": "2023-08-10T00:02:11.095773",
     "status": "completed"
    },
    "tags": []
   },
   "outputs": [],
   "source": [
    "# Fill the null values with the average of that columns values\n",
    "for column in TEST_FEATURE_COLUMNS:\n",
    "    avg = test_df[column].mean()\n",
    "    test_df.fillna(value=avg, inplace=True)"
   ]
  },
  {
   "cell_type": "code",
   "execution_count": 31,
   "id": "fe0ead10",
   "metadata": {
    "execution": {
     "iopub.execute_input": "2023-08-10T00:02:11.187087Z",
     "iopub.status.busy": "2023-08-10T00:02:11.185711Z",
     "iopub.status.idle": "2023-08-10T00:02:11.207882Z",
     "shell.execute_reply": "2023-08-10T00:02:11.206930Z"
    },
    "papermill": {
     "duration": 0.048596,
     "end_time": "2023-08-10T00:02:11.210020",
     "exception": false,
     "start_time": "2023-08-10T00:02:11.161424",
     "status": "completed"
    },
    "tags": []
   },
   "outputs": [
    {
     "data": {
      "text/html": [
       "<div>\n",
       "<style scoped>\n",
       "    .dataframe tbody tr th:only-of-type {\n",
       "        vertical-align: middle;\n",
       "    }\n",
       "\n",
       "    .dataframe tbody tr th {\n",
       "        vertical-align: top;\n",
       "    }\n",
       "\n",
       "    .dataframe thead th {\n",
       "        text-align: right;\n",
       "    }\n",
       "</style>\n",
       "<table border=\"1\" class=\"dataframe\">\n",
       "  <thead>\n",
       "    <tr style=\"text-align: right;\">\n",
       "      <th></th>\n",
       "      <th>AB</th>\n",
       "      <th>AF</th>\n",
       "      <th>AH</th>\n",
       "      <th>AM</th>\n",
       "      <th>AR</th>\n",
       "      <th>AX</th>\n",
       "      <th>AY</th>\n",
       "      <th>AZ</th>\n",
       "      <th>BC</th>\n",
       "      <th>BD</th>\n",
       "      <th>...</th>\n",
       "      <th>FI</th>\n",
       "      <th>FL</th>\n",
       "      <th>FR</th>\n",
       "      <th>FS</th>\n",
       "      <th>GB</th>\n",
       "      <th>GE</th>\n",
       "      <th>GF</th>\n",
       "      <th>GH</th>\n",
       "      <th>GI</th>\n",
       "      <th>GL</th>\n",
       "    </tr>\n",
       "  </thead>\n",
       "  <tbody>\n",
       "    <tr>\n",
       "      <th>0</th>\n",
       "      <td>NaN</td>\n",
       "      <td>NaN</td>\n",
       "      <td>NaN</td>\n",
       "      <td>NaN</td>\n",
       "      <td>NaN</td>\n",
       "      <td>NaN</td>\n",
       "      <td>NaN</td>\n",
       "      <td>NaN</td>\n",
       "      <td>NaN</td>\n",
       "      <td>NaN</td>\n",
       "      <td>...</td>\n",
       "      <td>NaN</td>\n",
       "      <td>NaN</td>\n",
       "      <td>NaN</td>\n",
       "      <td>NaN</td>\n",
       "      <td>NaN</td>\n",
       "      <td>NaN</td>\n",
       "      <td>NaN</td>\n",
       "      <td>NaN</td>\n",
       "      <td>NaN</td>\n",
       "      <td>NaN</td>\n",
       "    </tr>\n",
       "    <tr>\n",
       "      <th>1</th>\n",
       "      <td>NaN</td>\n",
       "      <td>NaN</td>\n",
       "      <td>NaN</td>\n",
       "      <td>NaN</td>\n",
       "      <td>NaN</td>\n",
       "      <td>NaN</td>\n",
       "      <td>NaN</td>\n",
       "      <td>NaN</td>\n",
       "      <td>NaN</td>\n",
       "      <td>NaN</td>\n",
       "      <td>...</td>\n",
       "      <td>NaN</td>\n",
       "      <td>NaN</td>\n",
       "      <td>NaN</td>\n",
       "      <td>NaN</td>\n",
       "      <td>NaN</td>\n",
       "      <td>NaN</td>\n",
       "      <td>NaN</td>\n",
       "      <td>NaN</td>\n",
       "      <td>NaN</td>\n",
       "      <td>NaN</td>\n",
       "    </tr>\n",
       "    <tr>\n",
       "      <th>2</th>\n",
       "      <td>NaN</td>\n",
       "      <td>NaN</td>\n",
       "      <td>NaN</td>\n",
       "      <td>NaN</td>\n",
       "      <td>NaN</td>\n",
       "      <td>NaN</td>\n",
       "      <td>NaN</td>\n",
       "      <td>NaN</td>\n",
       "      <td>NaN</td>\n",
       "      <td>NaN</td>\n",
       "      <td>...</td>\n",
       "      <td>NaN</td>\n",
       "      <td>NaN</td>\n",
       "      <td>NaN</td>\n",
       "      <td>NaN</td>\n",
       "      <td>NaN</td>\n",
       "      <td>NaN</td>\n",
       "      <td>NaN</td>\n",
       "      <td>NaN</td>\n",
       "      <td>NaN</td>\n",
       "      <td>NaN</td>\n",
       "    </tr>\n",
       "  </tbody>\n",
       "</table>\n",
       "<p>3 rows × 55 columns</p>\n",
       "</div>"
      ],
      "text/plain": [
       "   AB  AF  AH  AM  AR  AX  AY  AZ  BC  BD   ...  FI  FL  FR  FS  GB  GE  GF  \\\n",
       "0 NaN NaN NaN NaN NaN NaN NaN NaN NaN  NaN  ... NaN NaN NaN NaN NaN NaN NaN   \n",
       "1 NaN NaN NaN NaN NaN NaN NaN NaN NaN  NaN  ... NaN NaN NaN NaN NaN NaN NaN   \n",
       "2 NaN NaN NaN NaN NaN NaN NaN NaN NaN  NaN  ... NaN NaN NaN NaN NaN NaN NaN   \n",
       "\n",
       "   GH  GI  GL  \n",
       "0 NaN NaN NaN  \n",
       "1 NaN NaN NaN  \n",
       "2 NaN NaN NaN  \n",
       "\n",
       "[3 rows x 55 columns]"
      ]
     },
     "execution_count": 31,
     "metadata": {},
     "output_type": "execute_result"
    }
   ],
   "source": [
    "#Normalize the test set\n",
    "\n",
    "test_df = (test_df - test_df.mean()) / test_df.std()\n",
    "test_df.head(3)"
   ]
  },
  {
   "cell_type": "code",
   "execution_count": 32,
   "id": "ffc17e25",
   "metadata": {
    "execution": {
     "iopub.execute_input": "2023-08-10T00:02:11.258798Z",
     "iopub.status.busy": "2023-08-10T00:02:11.258517Z",
     "iopub.status.idle": "2023-08-10T00:02:11.326224Z",
     "shell.execute_reply": "2023-08-10T00:02:11.325438Z"
    },
    "papermill": {
     "duration": 0.094517,
     "end_time": "2023-08-10T00:02:11.328194",
     "exception": false,
     "start_time": "2023-08-10T00:02:11.233677",
     "status": "completed"
    },
    "tags": []
   },
   "outputs": [
    {
     "name": "stdout",
     "output_type": "stream",
     "text": [
      "1/1 [==============================] - 0s 17ms/step\n"
     ]
    },
    {
     "data": {
      "text/plain": [
       "[[nan, nan], [nan, nan], [nan, nan], [nan, nan], [nan, nan]]"
      ]
     },
     "execution_count": 32,
     "metadata": {},
     "output_type": "execute_result"
    }
   ],
   "source": [
    "# using the model to predict the test set\n",
    "\n",
    "predictions = models['fold_4'].predict(test_df)\n",
    "\n",
    "n_predictions= [[abs(i-1), i] for i in predictions.ravel()]\n",
    "n_predictions"
   ]
  },
  {
   "cell_type": "code",
   "execution_count": 33,
   "id": "381ea47f",
   "metadata": {
    "execution": {
     "iopub.execute_input": "2023-08-10T00:02:11.378783Z",
     "iopub.status.busy": "2023-08-10T00:02:11.378480Z",
     "iopub.status.idle": "2023-08-10T00:02:11.388829Z",
     "shell.execute_reply": "2023-08-10T00:02:11.388005Z"
    },
    "papermill": {
     "duration": 0.037296,
     "end_time": "2023-08-10T00:02:11.390740",
     "exception": false,
     "start_time": "2023-08-10T00:02:11.353444",
     "status": "completed"
    },
    "tags": []
   },
   "outputs": [],
   "source": [
    "# Saving to submission format\n",
    "submission = pd.read_csv(\"/kaggle/input/icr-identify-age-related-conditions/sample_submission.csv\")\n",
    "submission[['class_0', 'class_1']] = n_predictions\n",
    "submission.to_csv('/kaggle/working/submission.csv', index=False, float_format='%.08f')"
   ]
  },
  {
   "cell_type": "code",
   "execution_count": 34,
   "id": "cab8da86",
   "metadata": {
    "execution": {
     "iopub.execute_input": "2023-08-10T00:02:11.439609Z",
     "iopub.status.busy": "2023-08-10T00:02:11.439348Z",
     "iopub.status.idle": "2023-08-10T00:02:11.448348Z",
     "shell.execute_reply": "2023-08-10T00:02:11.447471Z"
    },
    "papermill": {
     "duration": 0.036048,
     "end_time": "2023-08-10T00:02:11.450637",
     "exception": false,
     "start_time": "2023-08-10T00:02:11.414589",
     "status": "completed"
    },
    "tags": []
   },
   "outputs": [
    {
     "data": {
      "text/html": [
       "<div>\n",
       "<style scoped>\n",
       "    .dataframe tbody tr th:only-of-type {\n",
       "        vertical-align: middle;\n",
       "    }\n",
       "\n",
       "    .dataframe tbody tr th {\n",
       "        vertical-align: top;\n",
       "    }\n",
       "\n",
       "    .dataframe thead th {\n",
       "        text-align: right;\n",
       "    }\n",
       "</style>\n",
       "<table border=\"1\" class=\"dataframe\">\n",
       "  <thead>\n",
       "    <tr style=\"text-align: right;\">\n",
       "      <th></th>\n",
       "      <th>Id</th>\n",
       "      <th>class_0</th>\n",
       "      <th>class_1</th>\n",
       "    </tr>\n",
       "  </thead>\n",
       "  <tbody>\n",
       "    <tr>\n",
       "      <th>0</th>\n",
       "      <td>00eed32682bb</td>\n",
       "      <td>NaN</td>\n",
       "      <td>NaN</td>\n",
       "    </tr>\n",
       "    <tr>\n",
       "      <th>1</th>\n",
       "      <td>010ebe33f668</td>\n",
       "      <td>NaN</td>\n",
       "      <td>NaN</td>\n",
       "    </tr>\n",
       "    <tr>\n",
       "      <th>2</th>\n",
       "      <td>02fa521e1838</td>\n",
       "      <td>NaN</td>\n",
       "      <td>NaN</td>\n",
       "    </tr>\n",
       "    <tr>\n",
       "      <th>3</th>\n",
       "      <td>040e15f562a2</td>\n",
       "      <td>NaN</td>\n",
       "      <td>NaN</td>\n",
       "    </tr>\n",
       "    <tr>\n",
       "      <th>4</th>\n",
       "      <td>046e85c7cc7f</td>\n",
       "      <td>NaN</td>\n",
       "      <td>NaN</td>\n",
       "    </tr>\n",
       "  </tbody>\n",
       "</table>\n",
       "</div>"
      ],
      "text/plain": [
       "             Id  class_0  class_1\n",
       "0  00eed32682bb      NaN      NaN\n",
       "1  010ebe33f668      NaN      NaN\n",
       "2  02fa521e1838      NaN      NaN\n",
       "3  040e15f562a2      NaN      NaN\n",
       "4  046e85c7cc7f      NaN      NaN"
      ]
     },
     "execution_count": 34,
     "metadata": {},
     "output_type": "execute_result"
    }
   ],
   "source": [
    "submission"
   ]
  },
  {
   "cell_type": "code",
   "execution_count": null,
   "id": "ad691137",
   "metadata": {
    "papermill": {
     "duration": 0.024127,
     "end_time": "2023-08-10T00:02:11.499300",
     "exception": false,
     "start_time": "2023-08-10T00:02:11.475173",
     "status": "completed"
    },
    "tags": []
   },
   "outputs": [],
   "source": []
  }
 ],
 "metadata": {
  "kernelspec": {
   "display_name": "Python 3",
   "language": "python",
   "name": "python3"
  },
  "language_info": {
   "codemirror_mode": {
    "name": "ipython",
    "version": 3
   },
   "file_extension": ".py",
   "mimetype": "text/x-python",
   "name": "python",
   "nbconvert_exporter": "python",
   "pygments_lexer": "ipython3",
   "version": "3.10.10"
  },
  "papermill": {
   "default_parameters": {},
   "duration": 60.790093,
   "end_time": "2023-08-10T00:02:14.789658",
   "environment_variables": {},
   "exception": null,
   "input_path": "__notebook__.ipynb",
   "output_path": "__notebook__.ipynb",
   "parameters": {},
   "start_time": "2023-08-10T00:01:13.999565",
   "version": "2.4.0"
  }
 },
 "nbformat": 4,
 "nbformat_minor": 5
}
